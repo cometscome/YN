{
 "cells": [
  {
   "cell_type": "markdown",
   "id": "4a2584c8",
   "metadata": {},
   "source": [
    "## 5.2.4 Julia 1.7で本書を再現するコード\n",
    "Julia 1.7以降の場合、乱数の仕様が1.6と変化したため、本書と同じ結果を再現するには乱数を指定する必要があります。そのため、本書では指定していない、```rng```という変数が引数に入っています。"
   ]
  },
  {
   "cell_type": "code",
   "execution_count": 1,
   "id": "5484541d",
   "metadata": {},
   "outputs": [
    {
     "data": {
      "text/plain": [
       "initialize_spins (generic function with 1 method)"
      ]
     },
     "execution_count": 1,
     "metadata": {},
     "output_type": "execute_result"
    }
   ],
   "source": [
    "using Random\n",
    "function initialize_spins(Lx,Ly,rng)\n",
    "    return rand(rng,[-1,1],Lx,Ly)\n",
    "end"
   ]
  },
  {
   "cell_type": "code",
   "execution_count": 2,
   "id": "fd32f646",
   "metadata": {},
   "outputs": [
    {
     "data": {
      "text/plain": [
       "measure_Mz (generic function with 1 method)"
      ]
     },
     "execution_count": 2,
     "metadata": {},
     "output_type": "execute_result"
    }
   ],
   "source": [
    "function measure_Mz(Ck)\n",
    "    return sum(Ck)\n",
    "end"
   ]
  },
  {
   "cell_type": "code",
   "execution_count": 3,
   "id": "1f1e5c32",
   "metadata": {},
   "outputs": [
    {
     "data": {
      "text/plain": [
       "measure_energy (generic function with 1 method)"
      ]
     },
     "execution_count": 3,
     "metadata": {},
     "output_type": "execute_result"
    }
   ],
   "source": [
    "function measure_energy(Ck,J,h,Lx,Ly)\n",
    "    energy = 0\n",
    "    for iy=1:Ly\n",
    "        for ix=1:Lx\n",
    "            Si = calc_Si(ix,iy,Lx,Ly,Ck)\n",
    "            σi = Ck[ix,iy]\n",
    "            energy += -(J/2)*σi*Si - h*σi\n",
    "        end\n",
    "    end\n",
    "    return energy\n",
    "end"
   ]
  },
  {
   "cell_type": "code",
   "execution_count": 4,
   "id": "d825b9b6",
   "metadata": {},
   "outputs": [
    {
     "data": {
      "text/plain": [
       "calc_Si (generic function with 1 method)"
      ]
     },
     "execution_count": 4,
     "metadata": {},
     "output_type": "execute_result"
    }
   ],
   "source": [
    "function calc_Si(ix,iy,Lx,Ly,Ck)\n",
    "    jx = ix + 1\n",
    "    if jx > Lx\n",
    "        jx -= Lx\n",
    "    end\n",
    "    jy=iy\n",
    "    Si = Ck[jx,jy]\n",
    "    \n",
    "    jx = ix - 1\n",
    "    if jx < 1\n",
    "        jx += Lx\n",
    "    end\n",
    "    jy = iy\n",
    "    Si += Ck[jx,jy]\n",
    "    \n",
    "    jy = iy + 1\n",
    "    if jy > Ly\n",
    "        jy -= Ly\n",
    "    end\n",
    "    jx = ix\n",
    "    Si += Ck[jx,jy]\n",
    "    \n",
    "    jy = iy-1\n",
    "    if jy < 1\n",
    "        jy += Ly\n",
    "    end\n",
    "    jx = ix\n",
    "    Si += Ck[jx,jy]\n",
    "    return Si\n",
    "end"
   ]
  },
  {
   "cell_type": "code",
   "execution_count": 5,
   "id": "a8a4a5da",
   "metadata": {},
   "outputs": [
    {
     "data": {
      "text/plain": [
       "calc_ΔE (generic function with 1 method)"
      ]
     },
     "execution_count": 5,
     "metadata": {},
     "output_type": "execute_result"
    }
   ],
   "source": [
    "function calc_ΔE(Ck,ix,iy,J,h,Lx,Ly)\n",
    "    Si = calc_Si(ix,iy,Lx,Ly,Ck)\n",
    "    return 2J*Ck[ix,iy]*Si + 2h*Ck[ix,iy]\n",
    "end"
   ]
  },
  {
   "cell_type": "code",
   "execution_count": 6,
   "id": "982b446d",
   "metadata": {},
   "outputs": [
    {
     "data": {
      "text/plain": [
       "metropolis (generic function with 1 method)"
      ]
     },
     "execution_count": 6,
     "metadata": {},
     "output_type": "execute_result"
    }
   ],
   "source": [
    "function metropolis(σi,ΔE,T,rng)\n",
    "    is_accepted = ifelse(rand(rng) <= exp(-ΔE/T),true,false)\n",
    "    σ_new = ifelse(is_accepted,-σi,σi)\n",
    "    return σ_new,is_accepted\n",
    "end"
   ]
  },
  {
   "cell_type": "code",
   "execution_count": 7,
   "id": "04be66e1",
   "metadata": {},
   "outputs": [
    {
     "data": {
      "text/plain": [
       "heatbath (generic function with 1 method)"
      ]
     },
     "execution_count": 7,
     "metadata": {},
     "output_type": "execute_result"
    }
   ],
   "source": [
    "function heatbath(σi,ΔE,T,rng)\n",
    "    α = ΔE*σi\n",
    "    σ_new = ifelse(rand(rng) <= 1/(1+exp(-α/T)),+1,-1)\n",
    "    is_accepted = ifelse(σ_new == σi,false,true)\n",
    "    return σ_new,is_accepted\n",
    "end\n"
   ]
  },
  {
   "cell_type": "code",
   "execution_count": 8,
   "id": "9cf3ee25",
   "metadata": {},
   "outputs": [
    {
     "data": {
      "text/plain": [
       "local_heatbath_update (generic function with 1 method)"
      ]
     },
     "execution_count": 8,
     "metadata": {},
     "output_type": "execute_result"
    }
   ],
   "source": [
    "function local_metropolis_update(Ck,ix,iy,T,J,h,Lx,Ly,rng)\n",
    "    ΔE = calc_ΔE(Ck,ix,iy,J,h,Lx,Ly)\n",
    "    σi = Ck[ix,iy]\n",
    "    return metropolis(σi,ΔE,T,rng)\n",
    "end\n",
    "function local_heatbath_update(Ck,ix,iy,T,J,h,Lx,Ly,rng)\n",
    "    ΔE = calc_ΔE(Ck,ix,iy,J,h,Lx,Ly)\n",
    "    σi = Ck[ix,iy]\n",
    "    return heatbath(σi,ΔE,T,rng)\n",
    "end"
   ]
  },
  {
   "cell_type": "code",
   "execution_count": 9,
   "id": "ac49c80e",
   "metadata": {},
   "outputs": [
    {
     "data": {
      "text/plain": [
       "montecarlo (generic function with 1 method)"
      ]
     },
     "execution_count": 9,
     "metadata": {},
     "output_type": "execute_result"
    }
   ],
   "source": [
    "using Random\n",
    "using Plots\n",
    "function montecarlo(num_thermal,num_MC,measure_interval,T,J,h,Lx,Ly)\n",
    "    #Random.seed!(123)\n",
    "    rng = MersenneTwister(123)\n",
    "    num_total = num_thermal+num_MC\n",
    "    accept_count = 0\n",
    "    absmz_meanvalue = 0\n",
    "    measure_count = 0\n",
    "    mz_data = []\n",
    "    update(Ck,ix,iy) = local_metropolis_update(Ck,ix,iy,T,J,h,Lx,Ly,rng)\n",
    "    \n",
    "    Ck = initialize_spins(Lx,Ly,rng)\n",
    "    \n",
    "    for trj = 1:num_total\n",
    "        for isweep = 1:Lx*Ly\n",
    "            ix = rand(rng,1:Lx)\n",
    "            iy = rand(rng,1:Ly)\n",
    "            Ck[ix,iy],is_accepted = update(Ck,ix,iy)\n",
    "            \n",
    "            accept_count += ifelse(is_accepted,1,0)\n",
    "        end\n",
    "        \n",
    "        if trj > num_thermal\n",
    "            if trj % measure_interval == 0\n",
    "                measure_count += 1\n",
    "                mz = measure_Mz(Ck)/(Lx*Ly)\n",
    "                absmz_meanvalue += abs(mz)\n",
    "                push!(mz_data,mz)\n",
    "            end\n",
    "        end \n",
    "    end\n",
    "    return mz_data,accept_count/(num_total*Lx*Ly),absmz_meanvalue/measure_count\n",
    "                \n",
    "end"
   ]
  },
  {
   "cell_type": "code",
   "execution_count": 10,
   "id": "4c762739",
   "metadata": {},
   "outputs": [
    {
     "name": "stdout",
     "output_type": "stream",
     "text": [
      "  3.104020 seconds (1.00 k allocations: 151.859 KiB)\n",
      "average acceptance ratio 0.00181302\n"
     ]
    }
   ],
   "source": [
    "function test()\n",
    "    Lx = 100\n",
    "    Ly = 100\n",
    "    J = 1\n",
    "    h = 0\n",
    "    num_thermal = 200\n",
    "    num_MC = 10000-num_thermal\n",
    "    measure_interval = 10\n",
    "    T = 1\n",
    "    @time mz_data,acceptance_ratio,absmz = montecarlo(num_thermal,num_MC,measure_interval,T,J,h,Lx,Ly)\n",
    "    println(\"average acceptance ratio \",acceptance_ratio)\n",
    "    histogram(mz_data,bin=-1:0.01:1)\n",
    "    savefig(\"mz_data_$T.png\")\n",
    "    return\n",
    "end\n",
    "test()"
   ]
  },
  {
   "cell_type": "code",
   "execution_count": 14,
   "id": "fac0428d",
   "metadata": {},
   "outputs": [
    {
     "data": {
      "text/plain": [
       "montecarlo_fast (generic function with 1 method)"
      ]
     },
     "execution_count": 14,
     "metadata": {},
     "output_type": "execute_result"
    }
   ],
   "source": [
    "function montecarlo_fast(num_thermal,num_MC,measure_interval,T,J,h,Lx,Ly)\n",
    "    #Random.seed!(123)\n",
    "    rng = MersenneTwister(123)\n",
    "    num_total = num_thermal+num_MC\n",
    "    accept_count = 0\n",
    "    absmz_meanvalue = 0\n",
    "    measure_count = 0\n",
    "    mz_data = []\n",
    "    update(Ck,ix,iy) = local_metropolis_update(Ck,ix,iy,T,J,h,Lx,Ly,rng)\n",
    "    \n",
    "    Ck = initialize_spins(Lx,Ly,rng)\n",
    "    \n",
    "    for trj = 1:num_total\n",
    "        if trj > num_thermal && rand(rng) < 0.01\n",
    "            @. Ck *= -1\n",
    "            continue\n",
    "        end\n",
    "        for ix = 1:Lx\n",
    "            for iy=1:Ly\n",
    "                Ck[ix,iy],is_accepted = update(Ck,ix,iy)\n",
    "            \n",
    "                accept_count += ifelse(is_accepted,1,0)\n",
    "            end\n",
    "        end\n",
    "        \n",
    "        if trj > num_thermal\n",
    "            if trj % measure_interval == 0\n",
    "                measure_count += 1\n",
    "                mz = measure_Mz(Ck)/(Lx*Ly)\n",
    "                absmz_meanvalue += abs(mz)\n",
    "                push!(mz_data,mz)\n",
    "            end\n",
    "        end \n",
    "    end\n",
    "    return mz_data,accept_count/(num_total*Lx*Ly),absmz_meanvalue/measure_count\n",
    "                \n",
    "end"
   ]
  },
  {
   "cell_type": "code",
   "execution_count": 12,
   "id": "ab316be2",
   "metadata": {},
   "outputs": [
    {
     "data": {
      "text/plain": [
       "test_tdep (generic function with 1 method)"
      ]
     },
     "execution_count": 12,
     "metadata": {},
     "output_type": "execute_result"
    }
   ],
   "source": [
    "function test_tdep()\n",
    "    Lx = 100\n",
    "    Ly = 100\n",
    "    J = 1\n",
    "    h = 0\n",
    "    num_thermal = 5000\n",
    "    num_MC = 50000-num_thermal\n",
    "    measure_interval = 10\n",
    "    mz_Tdep = []\n",
    "    nT = 20\n",
    "    Ts = range(0.5,4.0,length = nT)\n",
    "    for T in Ts\n",
    "        @time mz_data,acceptance_ratio,absmz = montecarlo_fast(num_thermal,num_MC,measure_interval,T,J,h,Lx,Ly)\n",
    "        push!(mz_Tdep,absmz)\n",
    "        println(\"$T $absmz\")\n",
    "        histogram(mz_data,bin=-1:0.01:1)\n",
    "        savefig(\"mz_data_$(T).png\")\n",
    "    end\n",
    "    plot(Ts,mz_Tdep)\n",
    "    savefig(\"mz_tdep.png\")\n",
    "    return\n",
    "end"
   ]
  },
  {
   "cell_type": "code",
   "execution_count": 15,
   "id": "22ad9e08",
   "metadata": {},
   "outputs": [
    {
     "name": "stdout",
     "output_type": "stream",
     "text": [
      " 17.695440 seconds (4.48 k allocations: 306.250 KiB)\n",
      "0.5 0.14376793173141722\n",
      " 17.592338 seconds (4.48 k allocations: 306.250 KiB)\n",
      "0.6842105263157895 0.12002339995508646\n",
      " 17.580583 seconds (4.48 k allocations: 306.250 KiB)\n",
      "0.868421052631579 0.9997885470469544\n",
      " 17.572042 seconds (4.48 k allocations: 306.250 KiB)\n",
      "1.0526315789473684 0.998897776779695\n",
      " 17.778520 seconds (4.48 k allocations: 306.250 KiB)\n",
      "1.236842105263158 0.9962963395463676\n",
      " 17.993443 seconds (4.48 k allocations: 306.250 KiB)\n",
      "1.4210526315789473 0.8967711205928534\n",
      " 17.794378 seconds (4.48 k allocations: 306.250 KiB)\n",
      "1.605263157894737 0.9791685605209999\n",
      " 17.620898 seconds (4.48 k allocations: 306.250 KiB)\n",
      "1.7894736842105263 0.9585100381765046\n",
      " 17.623968 seconds (4.48 k allocations: 306.250 KiB)\n",
      "1.9736842105263157 0.9196046260947665\n",
      " 17.608520 seconds (4.48 k allocations: 306.250 KiB)\n",
      "2.1578947368421053 0.8289461935773634\n",
      " 17.613212 seconds (4.48 k allocations: 306.250 KiB)\n",
      "2.3421052631578947 0.1695549068044012\n",
      " 17.613128 seconds (4.48 k allocations: 306.250 KiB)\n",
      "2.526315789473684 0.05831866157646524\n",
      " 17.623064 seconds (4.48 k allocations: 306.250 KiB)\n",
      "2.710526315789474 0.03798670559173594\n",
      " 17.649358 seconds (4.48 k allocations: 306.250 KiB)\n",
      "2.8947368421052633 0.029688838984953943\n",
      " 18.944492 seconds (4.48 k allocations: 306.250 KiB)\n",
      "3.0789473684210527 0.025415225690545714\n",
      " 18.019215 seconds (4.48 k allocations: 306.250 KiB)\n",
      "3.263157894736842 0.022334246575342484\n",
      " 17.889963 seconds (4.48 k allocations: 306.250 KiB)\n",
      "3.4473684210526314 0.020301504603638047\n",
      " 18.103500 seconds (4.48 k allocations: 306.250 KiB)\n",
      "3.6315789473684212 0.018681832472490483\n",
      " 17.920380 seconds (4.48 k allocations: 306.250 KiB)\n",
      "3.8157894736842106 0.01776887491578714\n",
      " 18.259852 seconds (4.48 k allocations: 306.250 KiB)\n",
      "4.0 0.016674960700651265\n"
     ]
    }
   ],
   "source": [
    "test_tdep()"
   ]
  },
  {
   "cell_type": "code",
   "execution_count": 17,
   "id": "18f37063",
   "metadata": {},
   "outputs": [
    {
     "data": {
      "text/plain": [
       "montecarlo_fast (generic function with 2 methods)"
      ]
     },
     "execution_count": 17,
     "metadata": {},
     "output_type": "execute_result"
    }
   ],
   "source": [
    "function montecarlo_fast(filename,num_thermal,num_MC,measure_interval,T,J,h,Lx,Ly)\n",
    "    ENV[\"GKSwstype\"] = \"nul\"\n",
    "    #Random.seed!(123)\n",
    "    rng = MersenneTwister(123)\n",
    "    num_total = num_thermal+num_MC\n",
    "    accept_count = 0\n",
    "    absmz_meanvalue = 0\n",
    "    measure_count = 0\n",
    "    mz_data = []\n",
    "    update(Ck,ix,iy) = local_metropolis_update(Ck,ix,iy,T,J,h,Lx,Ly,rng)\n",
    "    \n",
    "    Ck = initialize_spins(Lx,Ly,rng)\n",
    "    \n",
    "    ising = @animate for trj = 1:num_total\n",
    "        for ix = 1:Lx\n",
    "            for iy=1:Ly\n",
    "                Ck[ix,iy],is_accepted = update(Ck,ix,iy)\n",
    "            \n",
    "                accept_count += ifelse(is_accepted,1,0)\n",
    "            end\n",
    "        end\n",
    "        \n",
    "        if trj > num_thermal\n",
    "            if trj % measure_interval == 0\n",
    "                measure_count += 1\n",
    "                mz = measure_Mz(Ck)/(Lx*Ly)\n",
    "                absmz_meanvalue += abs(mz)\n",
    "                push!(mz_data,mz)\n",
    "            end\n",
    "        end \n",
    "        heatmap(1:Lx,1:Ly,Ck,aspect_ratio=:equal)\n",
    "    end every 100\n",
    "    gif(ising, \"./\"*filename, fps = 15)  \n",
    "    return mz_data,accept_count/(num_total*Lx*Ly),absmz_meanvalue/measure_count\n",
    "                \n",
    "end"
   ]
  },
  {
   "cell_type": "code",
   "execution_count": 18,
   "id": "ad8d65c7",
   "metadata": {},
   "outputs": [
    {
     "name": "stdout",
     "output_type": "stream",
     "text": [
      " 25.298755 seconds (65.36 M allocations: 5.501 GiB, 2.33% gc time, 7.05% compilation time)\n",
      "average acceptance ratio 0.01565267\n"
     ]
    },
    {
     "name": "stderr",
     "output_type": "stream",
     "text": [
      "┌ Info: Saved animation to \n",
      "│   fn = /Users/yuki/git/YukiNagai/docs/src_ja/books/ising_T0.5.gif\n",
      "└ @ Plots /Users/yuki/.julia/packages/Plots/SkUg1/src/animation.jl:126\n"
     ]
    }
   ],
   "source": [
    "function test_anime()\n",
    "    Lx = 100\n",
    "    Ly = 100\n",
    "    J = 1\n",
    "    h = 0\n",
    "    num_thermal = 5000\n",
    "    num_MC =20000-num_thermal\n",
    "    measure_interval = 10\n",
    "    T = 0.5\n",
    "    @time mz_data,acceptance_ratio,absmz = montecarlo_fast(\"ising_T$T.gif\",num_thermal,num_MC,measure_interval,T,J,h,Lx,Ly)\n",
    "\n",
    "    println(\"average acceptance ratio \",acceptance_ratio)\n",
    "    histogram(mz_data,bin=-1:0.01:1)\n",
    "    savefig(\"mz_data_$(T).png\")\n",
    "    return\n",
    "end\n",
    "test_anime()"
   ]
  },
  {
   "cell_type": "code",
   "execution_count": 19,
   "id": "ba337b3a",
   "metadata": {},
   "outputs": [
    {
     "data": {
      "text/plain": [
       "montecarlo_fast (generic function with 2 methods)"
      ]
     },
     "execution_count": 19,
     "metadata": {},
     "output_type": "execute_result"
    }
   ],
   "source": [
    "function montecarlo_fast(num_thermal,num_MC,measure_interval,T,J,h,Lx,Ly)\n",
    "    #Random.seed!(123)\n",
    "    rng = MersenneTwister(123)\n",
    "    num_total = num_thermal+num_MC\n",
    "    accept_count = 0\n",
    "    absmz_meanvalue = 0\n",
    "    measure_count = 0\n",
    "    mz_data = []\n",
    "    update(Ck,ix,iy) = local_metropolis_update(Ck,ix,iy,T,J,h,Lx,Ly,rng)\n",
    "    E2_meanvalue = 0.0 \n",
    "    E_meanvalue = 0.0 \n",
    "    \n",
    "    Ck = initialize_spins(Lx,Ly,rng)\n",
    "    \n",
    "    for trj = 1:num_total\n",
    "        if trj > num_thermal && rand(rng) < 0.01 \n",
    "            @. Ck *= -1\n",
    "            continue\n",
    "        end\n",
    "        \n",
    "        for ix = 1:Lx\n",
    "            for iy=1:Ly\n",
    "                Ck[ix,iy],is_accepted = update(Ck,ix,iy)\n",
    "            \n",
    "                accept_count += ifelse(is_accepted,1,0)\n",
    "            end\n",
    "        end\n",
    "        \n",
    "        if trj > num_thermal\n",
    "            if trj % measure_interval == 0\n",
    "                measure_count += 1\n",
    "                mz = measure_Mz(Ck)/(Lx*Ly)\n",
    "                absmz_meanvalue += abs(mz)\n",
    "                push!(mz_data,mz)\n",
    "                \n",
    "                E = measure_energy(Ck,J,h,Lx,Ly)\n",
    "                E2_meanvalue += E^2\n",
    "                E_meanvalue += E\n",
    "                \n",
    "            end\n",
    "        end \n",
    "    end\n",
    "    Cv = (E2_meanvalue/measure_count - (E_meanvalue/measure_count)^2)/T^2\n",
    "\n",
    "    return mz_data,accept_count/(num_total*Lx*Ly),absmz_meanvalue/measure_count,Cv\n",
    "                \n",
    "end"
   ]
  },
  {
   "cell_type": "code",
   "execution_count": 20,
   "id": "5c13a7a4",
   "metadata": {},
   "outputs": [
    {
     "data": {
      "text/plain": [
       "test_tdep (generic function with 1 method)"
      ]
     },
     "execution_count": 20,
     "metadata": {},
     "output_type": "execute_result"
    }
   ],
   "source": [
    "\n",
    "function test_tdep()\n",
    "    Lx = 96\n",
    "    Ly = 96\n",
    "    J = 1\n",
    "    h = 0\n",
    "    num_thermal = 20000\n",
    "    num_MC =100000-num_thermal\n",
    "    measure_interval = 10\n",
    "    mz_Tdep = []\n",
    "    Cv_Tdep = []\n",
    "\n",
    "    nT = 20\n",
    "    Ts = range(0.5,4.0,length= nT)\n",
    "    for T in Ts\n",
    "        @time mz_data,acceptance_ratio,absmz,Cv = montecarlo_fast(num_thermal,num_MC,measure_interval,T,J,h,Lx,Ly)\n",
    "        push!(mz_Tdep,absmz)\n",
    "        push!(Cv_Tdep,Cv)\n",
    "        println(\"$T $absmz, $Cv\")\n",
    "        histogram(mz_data,bin=-1:0.01:1)\n",
    "        savefig(\"mz_data_L$(Lx)_T$(T).png\")\n",
    "\n",
    "        plot(mz_data)\n",
    "        savefig(\"mz_trjdep_L$(Lx)_T$(T).png\")\n",
    "    end\n",
    "    plot(Ts,mz_Tdep)\n",
    "    savefig(\"mz_tdep_L$(Lx).png\")\n",
    "\n",
    "    plot(Ts,Cv_Tdep)\n",
    "    savefig(\"Cv_tdep_L$(Lx).png\")\n",
    "    return\n",
    "end"
   ]
  },
  {
   "cell_type": "code",
   "execution_count": null,
   "id": "5041f334",
   "metadata": {},
   "outputs": [
    {
     "name": "stdout",
     "output_type": "stream",
     "text": [
      "histgoram\n",
      " 33.731664 seconds (7.95 k allocations: 354.438 KiB)\n",
      "0.5 0.9999996715643, 0.3868520259857178\n",
      " 34.001185 seconds (7.95 k allocations: 354.438 KiB)\n",
      "0.6842105263157895 0.999983085561452, 10.428095578441958\n",
      " 33.894500 seconds (7.95 k allocations: 354.438 KiB)\n",
      "0.868421052631579 0.9997949192749589, 79.50156693244001\n"
     ]
    }
   ],
   "source": [
    "test_tdep()"
   ]
  },
  {
   "cell_type": "code",
   "execution_count": null,
   "id": "9008e6b8",
   "metadata": {},
   "outputs": [],
   "source": []
  }
 ],
 "metadata": {
  "@webio": {
   "lastCommId": null,
   "lastKernelId": null
  },
  "kernelspec": {
   "display_name": "Julia 1.7.1",
   "language": "julia",
   "name": "julia-1.7"
  },
  "language_info": {
   "file_extension": ".jl",
   "mimetype": "application/julia",
   "name": "julia",
   "version": "1.7.3"
  }
 },
 "nbformat": 4,
 "nbformat_minor": 5
}
