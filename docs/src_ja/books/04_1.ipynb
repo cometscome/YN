{
 "cells": [
  {
   "cell_type": "markdown",
   "id": "47eebb7b",
   "metadata": {},
   "source": [
    "## 4.1.3"
   ]
  },
  {
   "cell_type": "code",
   "execution_count": 1,
   "id": "34917793",
   "metadata": {},
   "outputs": [
    {
     "data": {
      "text/plain": [
       "make_H (generic function with 1 method)"
      ]
     },
     "execution_count": 1,
     "metadata": {},
     "output_type": "execute_result"
    }
   ],
   "source": [
    "function make_H(N,L,V)\n",
    "    Δx = L/(N+1)\n",
    "    H = zeros(Float64,N,N)\n",
    "    for i=1:N\n",
    "        x = i*Δx\n",
    "        H[i,i] = V(x)\n",
    "        j = i+1\n",
    "        dij = -1/Δx^2\n",
    "        if 1 ≤ j ≤ N\n",
    "            H[i,j] += dij\n",
    "        end\n",
    "        \n",
    "        j=i\n",
    "        dij = 2/Δx^2\n",
    "        if 1 ≤ j ≤ N\n",
    "            H[i,j] += dij\n",
    "        end\n",
    "        \n",
    "        j=i-1\n",
    "        dij = -1/Δx^2\n",
    "        if 1 ≤ j ≤ N\n",
    "            H[i,j] += dij\n",
    "        end\n",
    "        \n",
    "    end\n",
    "    return H\n",
    "end"
   ]
  },
  {
   "cell_type": "code",
   "execution_count": 2,
   "id": "f402b38d",
   "metadata": {},
   "outputs": [],
   "source": [
    "using LinearAlgebra"
   ]
  },
  {
   "cell_type": "code",
   "execution_count": 3,
   "id": "2a561e50",
   "metadata": {},
   "outputs": [
    {
     "name": "stdout",
     "output_type": "stream",
     "text": [
      "9.869604401089358\t9.869596300201396\n"
     ]
    }
   ],
   "source": [
    "using Plots\n",
    "function test()\n",
    "    V(x) = 0\n",
    "    N = 1000\n",
    "    L = 1\n",
    "    H = make_H(N,L,V)\n",
    "    e,v = eigen(H)\n",
    "    e0 = zeros(Float64,N)\n",
    "    for n=1:N\n",
    "        e0[n]=n^2*π^2/L^2\n",
    "    end\n",
    "    plot(1:N,[e,e0],labels=[\"Numerical result\" \"Analytical result\"],xlabel=\"n\",ylabel=\"energy\")\n",
    "    savefig(\"eigen.png\")\n",
    "    println(e0[1],\"\\t\",e[1])\n",
    "end\n",
    "test()"
   ]
  },
  {
   "cell_type": "code",
   "execution_count": 4,
   "id": "5a3e001c",
   "metadata": {},
   "outputs": [],
   "source": [
    "function test2()\n",
    "    V(x) = 0\n",
    "    N = 1000\n",
    "    L = 1\n",
    "    H = make_H(N,L,V)\n",
    "    e,v = eigen(H)\n",
    "    \n",
    "    Δx = L/(N+1)\n",
    "    xs = zeros(Float64,N)\n",
    "    ψ0 = zeros(Float64,N)\n",
    "    ψ250 = similar(ψ0)\n",
    "    n = 1\n",
    "    m = 250\n",
    "    for i=1:N\n",
    "        x = i*Δx\n",
    "        xs[i] = x\n",
    "        ψ0[i] = sqrt(2/L)*sin(x*n*π/L)\n",
    "        ψ250[i] = sqrt(2/L)*sin(x*m*π/L)\n",
    "    end\n",
    "    coeff = 1/sqrt(Δx)\n",
    "    \n",
    "    plot(xs,coeff*v[:,n],label=\"Numerical result n=1\",xlabel=\"x\",ylabel=\"psi(x)\")\n",
    "    plot!(xs,ψ0,label=\"Analytical result n=1\",xlabel=\"x\",ylabel=\"psi(x)\")\n",
    "    plot!(xs,coeff*v[:,m],label=\"Numerical result n=250\",xlabel=\"x\",ylabel=\"psi(x)\")\n",
    "    plot!(xs,ψ250,label=\"Analytical result n=250\",xlabel=\"x\",ylabel=\"psi(x)\")\n",
    "    savefig(\"psi.png\")\n",
    "end\n",
    "test2()"
   ]
  },
  {
   "cell_type": "markdown",
   "id": "a05b93aa",
   "metadata": {},
   "source": [
    "## 4.1.4"
   ]
  },
  {
   "cell_type": "code",
   "execution_count": 5,
   "id": "7c83aaf3",
   "metadata": {},
   "outputs": [
    {
     "data": {
      "text/plain": [
       "calc_vq (generic function with 1 method)"
      ]
     },
     "execution_count": 5,
     "metadata": {},
     "output_type": "execute_result"
    }
   ],
   "source": [
    "function calc_vq(q,ξ,V0)\n",
    "    vq = sqrt(π*ξ^2)*exp(-q^2*ξ^2/4)\n",
    "    return vq\n",
    "end"
   ]
  },
  {
   "cell_type": "code",
   "execution_count": 6,
   "id": "185e4a8b",
   "metadata": {},
   "outputs": [
    {
     "data": {
      "text/plain": [
       "calc_Vkkp (generic function with 1 method)"
      ]
     },
     "execution_count": 6,
     "metadata": {},
     "output_type": "execute_result"
    }
   ],
   "source": [
    "function calc_Vkkp(k,kp,L,ξ,x0,V0)\n",
    "    q1 = k - kp\n",
    "    vq1 = calc_vq(q1,ξ,V0)\n",
    "    q2 = k + kp\n",
    "    vq2 = calc_vq(q2,ξ,V0)\n",
    "    Vkkp = (V0/L)*(cos(q1*x0)*vq1 - cos(q2*x0)*vq2)\n",
    "    return Vkkp\n",
    "end"
   ]
  },
  {
   "cell_type": "code",
   "execution_count": 7,
   "id": "a9c14f6b",
   "metadata": {},
   "outputs": [
    {
     "data": {
      "text/plain": [
       "make_Hk (generic function with 1 method)"
      ]
     },
     "execution_count": 7,
     "metadata": {},
     "output_type": "execute_result"
    }
   ],
   "source": [
    "function make_Hk(N,L,ξ,x0,V0)\n",
    "    mat_Hk = zeros(Float64,N,N)\n",
    "    for n in 1:N\n",
    "        k = n*π/L\n",
    "        for np in 1:N\n",
    "            if n == np\n",
    "                v = k^2\n",
    "            else\n",
    "                v = 0\n",
    "            end\n",
    "            kp = np*π/L\n",
    "            Vkkp = calc_Vkkp(k,kp,L,ξ,x0,V0)\n",
    "            v += Vkkp\n",
    "            mat_Hk[n,np] = v\n",
    "        end\n",
    "    end\n",
    "    return mat_Hk\n",
    "end"
   ]
  },
  {
   "cell_type": "code",
   "execution_count": 8,
   "id": "39ec29db",
   "metadata": {},
   "outputs": [
    {
     "data": {
      "text/plain": [
       "calc_psi (generic function with 1 method)"
      ]
     },
     "execution_count": 8,
     "metadata": {},
     "output_type": "execute_result"
    }
   ],
   "source": [
    "function calc_psi(cn,x,L)\n",
    "    nmax = length(cn)\n",
    "    psi = 0\n",
    "    for n=1:nmax\n",
    "        kn = n*π/L\n",
    "        psi += cn[n]*sin(kn*x)\n",
    "    end\n",
    "    return psi*sqrt(2/L)\n",
    "end"
   ]
  },
  {
   "cell_type": "code",
   "execution_count": 9,
   "id": "60c256e5",
   "metadata": {},
   "outputs": [
    {
     "data": {
      "text/plain": [
       "momentumspace (generic function with 1 method)"
      ]
     },
     "execution_count": 9,
     "metadata": {},
     "output_type": "execute_result"
    }
   ],
   "source": [
    "function momentumspace(N,L,ξ,x0,V0)\n",
    "    Hk = make_Hk(N,L,ξ,x0,V0)\n",
    "    ep,bn = eigen(Hk)\n",
    "    xs = range(0,L,length=N)\n",
    "    psi = zeros(Float64,N)\n",
    "    n = 1\n",
    "    for (i,x) in enumerate(xs)\n",
    "        psi[i]  =calc_psi(bn[:,n],x,L)\n",
    "    end\n",
    "    plot(xs,psi,label=\"Numerical result in momentum space: n=1\", xlabel=\"x\",ylabel=\"psi(x)\")\n",
    "    savefig(\"momu.pdf\")\n",
    "    return\n",
    "end"
   ]
  },
  {
   "cell_type": "code",
   "execution_count": 10,
   "id": "a900aad9",
   "metadata": {},
   "outputs": [],
   "source": [
    "N = 1000\n",
    "L = 10\n",
    "ξ = 1\n",
    "x0 = L/2\n",
    "V0 = 1\n",
    "\n",
    "momentumspace(N,L,ξ,x0,V0)"
   ]
  },
  {
   "cell_type": "code",
   "execution_count": 11,
   "id": "285e1ca8",
   "metadata": {},
   "outputs": [
    {
     "data": {
      "text/plain": [
       "gaussV (generic function with 1 method)"
      ]
     },
     "execution_count": 11,
     "metadata": {},
     "output_type": "execute_result"
    }
   ],
   "source": [
    "function gaussV(x,ξ,x0,V0)\n",
    "    V0*exp(-(x-x0)^2/ξ^2)\n",
    "end"
   ]
  },
  {
   "cell_type": "code",
   "execution_count": 14,
   "id": "96291184",
   "metadata": {},
   "outputs": [
    {
     "name": "stdout",
     "output_type": "stream",
     "text": [
      "[0.3318732019153381, 0.4445184018941452, 1.1891596002955234, 1.711703103024328, 2.6885089824996653, 3.7252411323786125, 5.023736585633207, 6.495898312608702, 8.174847015417331, 10.048398020833162]\n",
      "[0.33187408153690445, 0.4445198549119366, 1.189166977062449, 1.711724403628242, 2.6885595784555663, 3.7253467453720255, 5.023931236271932, 6.496230600509136, 8.175378836500242, 10.049208513175111]\n"
     ]
    }
   ],
   "source": [
    "V(x) = gaussV(x,ξ,x0,V0)\n",
    "Hreal = make_H(N,L,V)\n",
    "e,v = eigen(Hreal)\n",
    "println(e[1:10])\n",
    "Hk =  make_Hk(N,L,ξ,x0,V0)\n",
    "e,v = eigen(Hk)\n",
    "println(e[1:10])"
   ]
  },
  {
   "cell_type": "markdown",
   "id": "8c96613a",
   "metadata": {},
   "source": []
  },
  {
   "cell_type": "code",
   "execution_count": 15,
   "id": "5cef5137",
   "metadata": {},
   "outputs": [],
   "source": []
  },
  {
   "cell_type": "code",
   "execution_count": null,
   "id": "4d4a4dfa",
   "metadata": {},
   "outputs": [],
   "source": []
  }
 ],
 "metadata": {
  "kernelspec": {
   "display_name": "Julia 1.7.1",
   "language": "julia",
   "name": "julia-1.7"
  },
  "language_info": {
   "file_extension": ".jl",
   "mimetype": "application/julia",
   "name": "julia",
   "version": "1.7.3"
  }
 },
 "nbformat": 4,
 "nbformat_minor": 5
}
