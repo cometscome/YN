{
 "cells": [
  {
   "cell_type": "markdown",
   "id": "2a2ff196",
   "metadata": {},
   "source": [
    "## 2.3.1"
   ]
  },
  {
   "cell_type": "code",
   "execution_count": 1,
   "id": "d14b0235",
   "metadata": {},
   "outputs": [
    {
     "data": {
      "text/plain": [
       "-1.0:0.2222222222222222:1.0"
      ]
     },
     "execution_count": 1,
     "metadata": {},
     "output_type": "execute_result"
    }
   ],
   "source": [
    "function g(x,T,nmax;τ=0.01)\n",
    "    a = 0im\n",
    "    for n=-nmax:nmax\n",
    "        ωn = pi*T*(2n+1)\n",
    "        a += exp(im*ωn*τ)/(im*ωn-x)\n",
    "    end\n",
    "    return real(a*T)\n",
    "end\n",
    "xs = range(-1,1,length=10)"
   ]
  },
  {
   "cell_type": "code",
   "execution_count": 4,
   "id": "9984b192",
   "metadata": {},
   "outputs": [
    {
     "name": "stdout",
     "output_type": "stream",
     "text": [
      "-1.0\t0.989498288411415\t0.9999546021312976\n",
      "-0.7777777777777778\t0.9913302694409194\t0.9995812333155556\n",
      "-0.5555555555555556\t0.990123551768255\t0.9961489676440697\n",
      "-0.3333333333333333\t0.9618350473721775\t0.9655548043337887\n",
      "-0.1111111111111111\t0.7509941347989852\t0.7523361988609284\n",
      "0.1111111111111111\t0.24743253689074113\t0.24766380113907163\n",
      "0.3333333333333333\t0.03405360537506296\t0.03444519566621118\n",
      "0.5555555555555556\t0.0033658873349129608\t0.003851032355930255\n",
      "0.7777777777777778\t-8.45627268651121e-5\t0.0004187666844443735\n",
      "1.0\t-0.0004607450598311099\t4.5397868702434395e-5\n"
     ]
    }
   ],
   "source": [
    "T = 0.1\n",
    "nmax = 100000\n",
    "for i=1:10\n",
    "    println(xs[i],\"\\t\",g(xs[i],T,nmax),\"\\t\",1/(exp(xs[i]/T)+1))\n",
    "end"
   ]
  },
  {
   "cell_type": "markdown",
   "id": "7bf6d478",
   "metadata": {},
   "source": [
    "## 2.3.2"
   ]
  },
  {
   "cell_type": "code",
   "execution_count": 5,
   "id": "166069f8",
   "metadata": {},
   "outputs": [
    {
     "data": {
      "text/plain": [
       "g2 (generic function with 1 method)"
      ]
     },
     "execution_count": 5,
     "metadata": {},
     "output_type": "execute_result"
    }
   ],
   "source": [
    "function g2(x,T;τ=0.01,nmax=1000000,eps = 1e-8)\n",
    "    n = 0\n",
    "    ωn = pi*T*(2n+1)\n",
    "    a = exp(im*ωn*τ)/(im*ωn-x)\n",
    "    aold = a\n",
    "    for n=1:nmax\n",
    "        ωn = pi*T*(2n+1)\n",
    "        a += exp(im*ωn*τ)/(im*ωn-x)\n",
    "        ωn = pi*T*(2*(-n)+1)\n",
    "        a += exp(im*ωn*τ)/(im*ωn-x)\n",
    "        if abs(a-aold)/abs(aold) < eps\n",
    "            println(\"converged at $n step\")\n",
    "            return T*a\n",
    "        end\n",
    "        aold = a\n",
    "    end\n",
    "    println(\"not converged in $nmax step\")\n",
    "    return T*a\n",
    "end"
   ]
  },
  {
   "cell_type": "code",
   "execution_count": 7,
   "id": "4ded27f7",
   "metadata": {},
   "outputs": [
    {
     "name": "stdout",
     "output_type": "stream",
     "text": [
      "converged at 7500 step\n",
      "-1.0\t0.9967535822236666 + 2.121912464934236e-5im\t0.9999546021312976\n",
      "converged at 7000 step\n",
      "-0.7777777777777778\t0.9846070839231615 - 2.273467099564552e-5im\t0.9995812333155556\n",
      "converged at 6000 step\n",
      "-0.5555555555555556\t0.982198510685111 - 2.6523469804527587e-5im\t0.9961489676440697\n",
      "converged at 5000 step\n",
      "-0.3333333333333333\t0.9522298368922746 - 3.182763780754324e-5im\t0.9655548043337887\n",
      "converged at 5000 step\n",
      "-0.1111111111111111\t0.7413889670554229 - 3.1827645198079234e-5im\t0.7523361988609284\n",
      "converged at 8500 step\n",
      "0.1111111111111111\t0.25389499073981686 + 1.8722918419782375e-5im\t0.24766380113907163\n",
      "converged at 25500 step\n",
      "0.3333333333333333\t0.03654672299971567 + 6.2412175458213976e-6im\t0.03444519566621118\n",
      "converged at 85500 step\n",
      "0.5555555555555556\t0.0044649990786945785 + 1.861441311444063e-6im\t0.003851032355930255\n",
      "converged at 263500 step\n",
      "0.7777777777777778\t0.0006142950486674835 + 6.039994612476532e-7im\t0.0004187666844443735\n",
      "converged at 657500 step\n",
      "1.0\t0.00012290381238922756 + 2.420593731874206e-7im\t4.5397868702434395e-5\n"
     ]
    }
   ],
   "source": [
    "T = 0.1\n",
    "for i=1:10\n",
    "    println(xs[i],\"\\t\",g2(xs[i],T),\"\\t\",1/(exp(xs[i]/T)+1))\n",
    "end"
   ]
  },
  {
   "cell_type": "code",
   "execution_count": 13,
   "id": "caea1b17",
   "metadata": {},
   "outputs": [
    {
     "data": {
      "text/plain": [
       "g2 (generic function with 1 method)"
      ]
     },
     "execution_count": 13,
     "metadata": {},
     "output_type": "execute_result"
    }
   ],
   "source": [
    "function g2(x,T;τ=0.01,eps = 1e-8)\n",
    "    n = 0\n",
    "    ωn = pi*T*(2n+1)\n",
    "    a = exp(im*ωn*τ)/(im*ωn-x)\n",
    "    aold = 10*a\n",
    "    while abs(a-aold)/abs(aold) > eps\n",
    "        aold = a\n",
    "        n += 1\n",
    "        ωn = pi*T*(2n+1)\n",
    "        a += exp(im*ωn*τ)/(im*ωn-x)\n",
    "        ωn = pi*T*(2*(-n)+1)\n",
    "        a += exp(im*ωn*τ)/(im*ωn-x)\n",
    "    end\n",
    "    println(\"converged in $n step\")\n",
    "    return T*a\n",
    "end"
   ]
  },
  {
   "cell_type": "code",
   "execution_count": 14,
   "id": "129eafdb",
   "metadata": {},
   "outputs": [
    {
     "name": "stdout",
     "output_type": "stream",
     "text": [
      "converged in 17845000 step\n"
     ]
    },
    {
     "data": {
      "text/plain": [
       "0.5000283892332869 + 8.918740923376222e-9im"
      ]
     },
     "execution_count": 14,
     "metadata": {},
     "output_type": "execute_result"
    }
   ],
   "source": [
    "g2(0,0.1;τ=0.001,eps=1e-15)"
   ]
  },
  {
   "cell_type": "markdown",
   "id": "c05af794",
   "metadata": {},
   "source": [
    "## 2.4.2"
   ]
  },
  {
   "cell_type": "code",
   "execution_count": 15,
   "id": "b32556e0",
   "metadata": {},
   "outputs": [
    {
     "data": {
      "text/plain": [
       "make_matrix (generic function with 1 method)"
      ]
     },
     "execution_count": 15,
     "metadata": {},
     "output_type": "execute_result"
    }
   ],
   "source": [
    "function make_matrix(n)\n",
    "    H  =zeros(n,n)\n",
    "    for i=1:n\n",
    "        j = i+1\n",
    "        j += ifelse(j > n,-n,0)\n",
    "        H[i,j] = -1\n",
    "        j = i-1\n",
    "        j += ifelse(j < 1,n,0)\n",
    "        H[i,j] = -1\n",
    "        H[i,i] = 2\n",
    "    end\n",
    "    return H\n",
    "end"
   ]
  },
  {
   "cell_type": "code",
   "execution_count": 16,
   "id": "6c99d276",
   "metadata": {},
   "outputs": [
    {
     "data": {
      "text/plain": [
       "10×10 Matrix{Float64}:\n",
       "  2.0  -1.0   0.0   0.0   0.0   0.0   0.0   0.0   0.0  -1.0\n",
       " -1.0   2.0  -1.0   0.0   0.0   0.0   0.0   0.0   0.0   0.0\n",
       "  0.0  -1.0   2.0  -1.0   0.0   0.0   0.0   0.0   0.0   0.0\n",
       "  0.0   0.0  -1.0   2.0  -1.0   0.0   0.0   0.0   0.0   0.0\n",
       "  0.0   0.0   0.0  -1.0   2.0  -1.0   0.0   0.0   0.0   0.0\n",
       "  0.0   0.0   0.0   0.0  -1.0   2.0  -1.0   0.0   0.0   0.0\n",
       "  0.0   0.0   0.0   0.0   0.0  -1.0   2.0  -1.0   0.0   0.0\n",
       "  0.0   0.0   0.0   0.0   0.0   0.0  -1.0   2.0  -1.0   0.0\n",
       "  0.0   0.0   0.0   0.0   0.0   0.0   0.0  -1.0   2.0  -1.0\n",
       " -1.0   0.0   0.0   0.0   0.0   0.0   0.0   0.0  -1.0   2.0"
      ]
     },
     "execution_count": 16,
     "metadata": {},
     "output_type": "execute_result"
    }
   ],
   "source": [
    "make_matrix(10)"
   ]
  },
  {
   "cell_type": "markdown",
   "id": "5fbac04b",
   "metadata": {},
   "source": [
    "## 2.4.8"
   ]
  },
  {
   "cell_type": "code",
   "execution_count": 18,
   "id": "c2f7fc09",
   "metadata": {},
   "outputs": [
    {
     "data": {
      "text/plain": [
       "y (generic function with 1 method)"
      ]
     },
     "execution_count": 18,
     "metadata": {},
     "output_type": "execute_result"
    }
   ],
   "source": [
    "function y(x,W1,W2,b1,b2)\n",
    "    xp = W1*x+b1\n",
    "    m = length(xp)\n",
    "    f(x) = tanh(x)\n",
    "    for i=1:m\n",
    "        xp[i] = f(xp[i])\n",
    "    end\n",
    "    wxp = W2*xp\n",
    "    return wxp[1]+b2\n",
    "end"
   ]
  },
  {
   "cell_type": "code",
   "execution_count": 20,
   "id": "ba56033d",
   "metadata": {},
   "outputs": [
    {
     "data": {
      "text/plain": [
       "10"
      ]
     },
     "execution_count": 20,
     "metadata": {},
     "output_type": "execute_result"
    }
   ],
   "source": [
    "x = [1,2,3]\n",
    "W1 = [1 2 3\n",
    "    4 5 6]\n",
    "b1 = [10,11]\n",
    "W2 = [3 4]\n",
    "b2 = 3\n",
    "y(x,W1,W2,b1,b2)"
   ]
  },
  {
   "cell_type": "code",
   "execution_count": 21,
   "id": "f9515184",
   "metadata": {},
   "outputs": [
    {
     "data": {
      "text/plain": [
       "y2 (generic function with 1 method)"
      ]
     },
     "execution_count": 21,
     "metadata": {},
     "output_type": "execute_result"
    }
   ],
   "source": [
    "function y2(x,W1,W2,b1,b2)\n",
    "    f(x) = tanh(x)\n",
    "    return W2*f.(W1*x+b1) .+ b2\n",
    "end"
   ]
  },
  {
   "cell_type": "code",
   "execution_count": 22,
   "id": "cf6c62b2",
   "metadata": {},
   "outputs": [
    {
     "data": {
      "text/plain": [
       "1-element Vector{Float64}:\n",
       " 10.0"
      ]
     },
     "execution_count": 22,
     "metadata": {},
     "output_type": "execute_result"
    }
   ],
   "source": [
    "y2(x,W1,W2,b1,b2)"
   ]
  },
  {
   "cell_type": "markdown",
   "id": "8e1c7eae",
   "metadata": {},
   "source": [
    "## 2.5.2"
   ]
  },
  {
   "cell_type": "code",
   "execution_count": 23,
   "id": "9ec6f67c",
   "metadata": {},
   "outputs": [
    {
     "data": {
      "text/plain": [
       "* (generic function with 365 methods)"
      ]
     },
     "execution_count": 23,
     "metadata": {},
     "output_type": "execute_result"
    }
   ],
   "source": [
    "function Base.:*(x::Int64,y::String)\n",
    "    z = \"\"\n",
    "    for i=1:x\n",
    "        z*= y\n",
    "    end\n",
    "    return z\n",
    "end\n",
    "* "
   ]
  },
  {
   "cell_type": "code",
   "execution_count": 24,
   "id": "d41a7527",
   "metadata": {},
   "outputs": [
    {
     "data": {
      "text/plain": [
       "\"dogdogdog\""
      ]
     },
     "execution_count": 24,
     "metadata": {},
     "output_type": "execute_result"
    }
   ],
   "source": [
    "3*\"dog\""
   ]
  },
  {
   "cell_type": "markdown",
   "id": "1d2e5a40",
   "metadata": {},
   "source": [
    "## 2.5.3"
   ]
  },
  {
   "cell_type": "code",
   "execution_count": 25,
   "id": "a9c92e23",
   "metadata": {},
   "outputs": [
    {
     "data": {
      "text/plain": [
       "get_subtypes (generic function with 1 method)"
      ]
     },
     "execution_count": 25,
     "metadata": {},
     "output_type": "execute_result"
    }
   ],
   "source": [
    "function get_subtypes(type,num)\n",
    "    types = subtypes(type)\n",
    "    num += 1\n",
    "    if length(types) > 1\n",
    "        for subtypes in types\n",
    "            println(num*\" \",subtypes)\n",
    "            types = get_subtypes(subtypes,num)\n",
    "        end\n",
    "    end\n",
    "    return types\n",
    "end"
   ]
  },
  {
   "cell_type": "code",
   "execution_count": 26,
   "id": "47f5e677",
   "metadata": {},
   "outputs": [
    {
     "name": "stdout",
     "output_type": "stream",
     "text": [
      "  Bool\n",
      "  Signed\n",
      "   BigInt\n",
      "   Int128\n",
      "   Int16\n",
      "   Int32\n",
      "   Int64\n",
      "   Int8\n",
      "  Unsigned\n",
      "   UInt128\n",
      "   UInt16\n",
      "   UInt32\n",
      "   UInt64\n",
      "   UInt8\n"
     ]
    },
    {
     "data": {
      "text/plain": [
       "Type[]"
      ]
     },
     "execution_count": 26,
     "metadata": {},
     "output_type": "execute_result"
    }
   ],
   "source": [
    "get_subtypes(Integer,1)"
   ]
  },
  {
   "cell_type": "code",
   "execution_count": null,
   "id": "b97dc76e",
   "metadata": {},
   "outputs": [],
   "source": []
  }
 ],
 "metadata": {
  "kernelspec": {
   "display_name": "Julia 1.7.1",
   "language": "julia",
   "name": "julia-1.7"
  },
  "language_info": {
   "file_extension": ".jl",
   "mimetype": "application/julia",
   "name": "julia",
   "version": "1.7.3"
  }
 },
 "nbformat": 4,
 "nbformat_minor": 5
}
