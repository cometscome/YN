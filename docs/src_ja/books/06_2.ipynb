{
 "cells": [
  {
   "cell_type": "code",
   "execution_count": 4,
   "id": "da088be0",
   "metadata": {},
   "outputs": [
    {
     "data": {
      "text/plain": [
       "solve_optim (generic function with 3 methods)"
      ]
     },
     "execution_count": 4,
     "metadata": {},
     "output_type": "execute_result"
    }
   ],
   "source": [
    "const kB = 1\n",
    "const N = 1\n",
    "const ħω = 10\n",
    "using QuadGK\n",
    "function gapequation(Δ,T,V)\n",
    "    f(ξ) = N*V*Δ*tanh((sqrt(Δ^2+ξ^2))/(2kB*T))/(sqrt(Δ^2+ξ^2))\n",
    "    result = quadgk(f,0,ħω)\n",
    "    return result[1]\n",
    "end\n",
    "\n",
    "function solve_optim(gapequation,T,V,eps=1e-4,maxΔ=1.5)\n",
    "    gfunc(Δ) = (gapequation(Δ,T,V) - Δ)^2\n",
    "    res= optimize(gfunc, 1e-10,maxΔ,rel_tol=eps)\n",
    "    Δ = abs(Optim.minimizer(res)[1]) #Δは正でも負でもどちらでもありうるが、ここでは正の方を取る\n",
    "    return Δ\n",
    "end\n"
   ]
  },
  {
   "cell_type": "code",
   "execution_count": 6,
   "id": "dadfd74f",
   "metadata": {},
   "outputs": [
    {
     "name": "stdout",
     "output_type": "stream",
     "text": [
      "V = 0.3335340980679235\n",
      "  0.015326 seconds (32.45 k allocations: 4.876 MiB)\n",
      "done\n"
     ]
    }
   ],
   "source": [
    "using Optim\n",
    "using Plots\n",
    "function tdep()\n",
    "    Δ = 1.0\n",
    "    V = 1.0\n",
    "    T = 0\n",
    "\n",
    "    f(V) = (solve_optim(gapequation,0,V)-Δ)^2\n",
    "    res= optimize(f,0,1.5)\n",
    "    V = Optim.minimizer(res)[1]\n",
    "    println(\"V = \",V)\n",
    "\n",
    "    nT = 1000\n",
    "    Ts = range(1e-15,0.6,length=nT)\n",
    "    \n",
    "    Δs = []\n",
    "    @time for T in Ts\n",
    "        Δ = solve_optim(gapequation,T,V)\n",
    "        push!(Δs,Δ)\n",
    "    end\n",
    "    plot(Ts,Δs,marker=:circle,xlabel=\"T\",ylabel=\"Delta\",label=\"Optim\")\n",
    "    savefig(\"Deltas_optim.png\")\n",
    "end\n",
    "tdep()\n",
    "println(\"done\")"
   ]
  },
  {
   "cell_type": "code",
   "execution_count": 9,
   "id": "b88d7762",
   "metadata": {},
   "outputs": [
    {
     "name": "stdout",
     "output_type": "stream",
     "text": [
      "V = 0.33351178195214165\n",
      "  0.400952 seconds (784.68 k allocations: 136.478 MiB, 3.37% gc time, 1.51% compilation time)\n",
      "done\n"
     ]
    }
   ],
   "source": [
    "function solve_simple(gapequation,T,V,eps=1e-4,initialΔ=1.5)\n",
    "    Δ = initialΔ\n",
    "    Δold = 100.0\n",
    "    res = abs(Δ-Δold)/abs(Δ)\n",
    "    while res > eps && abs(Δ) > 1e-10\n",
    "        Δ = abs(gapequation(Δ,T,V))\n",
    "        res = abs(Δ-Δold)/abs(Δ)\n",
    "        Δold = Δ\n",
    "    end\n",
    "    return Δ\n",
    "end\n",
    "\n",
    "\n",
    "function tdep_simple()\n",
    "    Δ = 1.0\n",
    "    V = 1.0\n",
    "    T = 0\n",
    "\n",
    "    f(V) = (solve_simple(gapequation,0,V)-Δ)^2\n",
    "    res= optimize(f,0,1.5)\n",
    "    V = Optim.minimizer(res)[1]\n",
    "    println(\"V = \",V)\n",
    "\n",
    "    nT = 1000\n",
    "    Ts = range(1e-15,0.6,length=nT)\n",
    "    \n",
    "    Δs = []\n",
    "    @time for T in Ts\n",
    "        Δ = solve_simple(gapequation,T,V)\n",
    "        push!(Δs,Δ)\n",
    "    end\n",
    "    plot(Ts,Δs,marker=:circle,xlabel=\"T\",ylabel=\"Delta\",label=\"Optim\")\n",
    "    savefig(\"Deltas_simple.png\")\n",
    "end\n",
    "tdep_simple()\n",
    "println(\"done\")"
   ]
  },
  {
   "cell_type": "code",
   "execution_count": 15,
   "id": "d5a3f93e",
   "metadata": {},
   "outputs": [
    {
     "name": "stdout",
     "output_type": "stream",
     "text": [
      "Tc = 0.5655389274387839\n",
      "Theoretical value of Tc = 0.5681818181818182\n",
      "done\n"
     ]
    }
   ],
   "source": [
    "\n",
    "function linearized_gapequation(T,V)\n",
    "    f(ξ) = N*V*tanh(abs(ξ)/(2kB*T))/abs(ξ)\n",
    "    result = quadgk(f,0,ħω)\n",
    "    return result[1]\n",
    "end\n",
    "\n",
    "function test()\n",
    "    V = 0.3335340980679235\n",
    "    findTc(T) = (linearized_gapequation(T,V)-1)^2\n",
    "    res= optimize(findTc,0,1)\n",
    "    Tc = Optim.minimizer(res)[1]\n",
    "    println(\"Tc = \",Tc)\n",
    "    println(\"Theoretical value of Tc = \", 1/1.76)#(2*exp(0.577)/π)*ħω*exp(-1/(N*V)))\n",
    "end\n",
    "test()\n",
    "\n",
    "println(\"done\")"
   ]
  },
  {
   "cell_type": "code",
   "execution_count": null,
   "id": "0b8ccc55",
   "metadata": {},
   "outputs": [],
   "source": []
  }
 ],
 "metadata": {
  "kernelspec": {
   "display_name": "Julia 1.9.0",
   "language": "julia",
   "name": "julia-1.9"
  },
  "language_info": {
   "file_extension": ".jl",
   "mimetype": "application/julia",
   "name": "julia",
   "version": "1.9.0"
  }
 },
 "nbformat": 4,
 "nbformat_minor": 5
}
