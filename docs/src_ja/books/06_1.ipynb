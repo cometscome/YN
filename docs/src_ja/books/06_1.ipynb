{
 "cells": [
  {
   "cell_type": "code",
   "execution_count": 1,
   "id": "faf883a6",
   "metadata": {},
   "outputs": [
    {
     "name": "stderr",
     "output_type": "stream",
     "text": [
      "┌ Info: Precompiling Plots [91a5bcdd-55d7-5caf-9e0b-520d859cae80]\n",
      "└ @ Base loading.jl:1342\n"
     ]
    },
    {
     "data": {
      "text/plain": [
       "calc_energy (generic function with 1 method)"
      ]
     },
     "execution_count": 1,
     "metadata": {},
     "output_type": "execute_result"
    }
   ],
   "source": [
    "using Plots\n",
    "function calc_energy(M, μ, ε)\n",
    "    E = 0\n",
    "    ks = range(-π, π, length=M)\n",
    "    filling = 0\n",
    "    for kx in ks\n",
    "        εkx = ε(kx) - μ\n",
    "        if (εkx < 0)\n",
    "            E += εkx\n",
    "            filling += 1\n",
    "        end\n",
    "    end\n",
    "    return E / M, filling / M\n",
    "end"
   ]
  },
  {
   "cell_type": "code",
   "execution_count": 2,
   "id": "0332dd55",
   "metadata": {},
   "outputs": [
    {
     "name": "stdout",
     "output_type": "stream",
     "text": [
      "  0.000466 seconds\n",
      "10 -0.5758770483143634 0.4\n",
      "  0.000003 seconds\n",
      "50 -0.6239942466260072 0.48\n",
      "  0.000002 seconds\n",
      "100 -0.6302800198032255 0.5\n",
      "  0.000006 seconds\n",
      "500 -0.6353475821202026 0.5\n",
      "  0.000010 seconds\n",
      "1000 -0.6359834146567386 0.5\n",
      "  0.000047 seconds\n",
      "5000 -0.6364924588871788 0.5\n",
      "  0.000093 seconds\n",
      "10000 -0.6365561130085988 0.5\n"
     ]
    },
    {
     "name": "stderr",
     "output_type": "stream",
     "text": [
      "┌ Info: Precompiling GR_jll [d2c73de3-f751-5644-a686-071e5b155ba9]\n",
      "└ @ Base loading.jl:1342\n"
     ]
    },
    {
     "name": "stdout",
     "output_type": "stream",
     "text": [
      "done\n"
     ]
    }
   ],
   "source": [
    "function test2()\n",
    "    μ = 0\n",
    "    Ms = [10, 50, 100, 500, 1000, 5000, 10000]\n",
    "    Es = []\n",
    "    ε(kx) = -2 * cos(kx)\n",
    "    for M in Ms\n",
    "        @time E, filling = calc_energy(M, μ, ε)\n",
    "        println(\"$M $E $filling\")\n",
    "        push!(Es, E)\n",
    "    end\n",
    "    plot(Ms, Es, xscale=:log10)\n",
    "    savefig(\"TB_edep.png\")\n",
    "end\n",
    "test2()\n",
    "println(\"done\")"
   ]
  },
  {
   "cell_type": "code",
   "execution_count": 3,
   "id": "cf77c0c8",
   "metadata": {},
   "outputs": [
    {
     "name": "stdout",
     "output_type": "stream",
     "text": [
      "done\n"
     ]
    }
   ],
   "source": [
    "function test3()\n",
    "    ε(kx) = -2 * cos(kx)\n",
    "    M = 1000\n",
    "    μs = range(-3, 3, length=100)\n",
    "    fillings = []\n",
    "    for μ in μs\n",
    "        E, filling = calc_energy(M, μ, ε)\n",
    "        push!(fillings, filling)\n",
    "    end\n",
    "    plot(μs, fillings, label=\"filling\")\n",
    "    savefig(\"TB_mudep.png\")\n",
    "end\n",
    "test3()\n",
    "println(\"done\")"
   ]
  },
  {
   "cell_type": "code",
   "execution_count": 4,
   "id": "11e1d2df",
   "metadata": {},
   "outputs": [
    {
     "data": {
      "text/plain": [
       "bisection_method (generic function with 1 method)"
      ]
     },
     "execution_count": 4,
     "metadata": {},
     "output_type": "execute_result"
    }
   ],
   "source": [
    "function bisection_method(xmin, xmax, f, eps; itamax=20)\n",
    "    fmin = f(xmin)\n",
    "    fmax = f(xmax)\n",
    "    @assert fmin * fmax < 0 \"f(xmin)*f(xmax) should be less than 0!\"\n",
    "    for i = 1:itamax\n",
    "        xmid = (xmin + xmax) / 2\n",
    "        fmid = f(xmid)\n",
    "        if abs(fmid) < eps\n",
    "            return xmid, fmid\n",
    "        end\n",
    "        if fmid < 0\n",
    "            xmin = xmid\n",
    "        else\n",
    "            xmax = xmid\n",
    "        end\n",
    "        println(\"$i $xmid $fmid\")\n",
    "    end\n",
    "end"
   ]
  },
  {
   "cell_type": "code",
   "execution_count": 5,
   "id": "0ecb419c",
   "metadata": {},
   "outputs": [
    {
     "name": "stdout",
     "output_type": "stream",
     "text": [
      "1 0.0 0.25\n",
      "2 -1.5 -0.01999999999999999\n",
      "3 -0.75 0.128\n",
      "4 -1.125 0.06\n",
      "5 -1.3125 0.02200000000000002\n",
      "6 -1.40625 0.0020000000000000018\n",
      "7 -1.453125 -0.010000000000000009\n",
      "8 -1.4296875 -0.0040000000000000036\n",
      "9 -1.41796875 -0.0020000000000000018\n",
      "μ = -1.412109375, 0.25\n",
      "done\n"
     ]
    }
   ],
   "source": [
    "function test4()\n",
    "    filling = 0.25\n",
    "    M = 1000\n",
    "    ε(kx) = -2 * cos(kx)\n",
    "    f(μ) = calc_energy(M, μ, ε)[2] - filling\n",
    "    eps = 1e-10\n",
    "    μ_ans, err = bisection_method(-3, 3, f, eps)\n",
    "    println(\"μ = $μ_ans, $(calc_energy(M,μ_ans,ε)[2])\")\n",
    "end\n",
    "test4()\n",
    "println(\"done\")"
   ]
  },
  {
   "cell_type": "code",
   "execution_count": 6,
   "id": "03e7c043",
   "metadata": {},
   "outputs": [
    {
     "data": {
      "text/plain": [
       "make_H (generic function with 1 method)"
      ]
     },
     "execution_count": 6,
     "metadata": {},
     "output_type": "execute_result"
    }
   ],
   "source": [
    "function make_H(N, μ, V)\n",
    "    H = zeros(Float64, N, N)\n",
    "    for i = 1:N\n",
    "        j = i + 1\n",
    "        j += ifelse(j > N, -N, 0)\n",
    "        H[i, j] = -1\n",
    "\n",
    "        j = i - 1\n",
    "        j += ifelse(j < 1, N, 0)\n",
    "        H[i, j] = -1\n",
    "\n",
    "        j = i\n",
    "        H[i, j] = -μ + V(i)\n",
    "    end\n",
    "    return H\n",
    "end"
   ]
  },
  {
   "cell_type": "code",
   "execution_count": 7,
   "id": "b2d28829",
   "metadata": {},
   "outputs": [
    {
     "data": {
      "text/plain": [
       "make_H (generic function with 2 methods)"
      ]
     },
     "execution_count": 7,
     "metadata": {},
     "output_type": "execute_result"
    }
   ],
   "source": [
    "function make_H(Lx, Ly, μ, V)\n",
    "    N = Lx * Ly\n",
    "    H = zeros(Float64, N, N)\n",
    "    ds = [(1, 0), (-1, 0), (0, 1), (0, -1)]\n",
    "    for ix = 1:Lx\n",
    "        for iy = 1:Ly\n",
    "            i = (iy - 1) * Lx + ix\n",
    "            for d in ds\n",
    "                jx = ix + d[1]\n",
    "                jx += ifelse(jx > Lx, -Lx, 0)\n",
    "                jx += ifelse(jx < 1, Lx, 0)\n",
    "\n",
    "                jy = iy + d[2]\n",
    "                jy += ifelse(jy > Ly, -Ly, 0)\n",
    "                jy += ifelse(jy < 1, Ly, 0)\n",
    "\n",
    "                j = (jy - 1) * Lx + jx\n",
    "                H[i, j] += -1\n",
    "            end\n",
    "            H[i, i] += -μ + V(ix, iy)\n",
    "        end\n",
    "    end\n",
    "    return H\n",
    "end\n"
   ]
  },
  {
   "cell_type": "code",
   "execution_count": 8,
   "id": "ec994203",
   "metadata": {},
   "outputs": [
    {
     "data": {
      "text/plain": [
       "calc_ldos (generic function with 1 method)"
      ]
     },
     "execution_count": 8,
     "metadata": {},
     "output_type": "execute_result"
    }
   ],
   "source": [
    "function calc_ldos(E, i, ene, ψ, η)\n",
    "    ldos = 0.0\n",
    "    for n = 1:length(ene)\n",
    "        ldos += abs(ψ[i, n])^2 * η / ((E - ene[n])^2 + η^2)\n",
    "    end\n",
    "    return ldos\n",
    "end\n"
   ]
  },
  {
   "cell_type": "code",
   "execution_count": null,
   "id": "0e6bb7c5",
   "metadata": {},
   "outputs": [],
   "source": [
    "using LinearAlgebra\n",
    "function ldos_plot()\n",
    "    Lx = 91\n",
    "    Ly = 91\n",
    "    μ = -0.2 #化学ポテンシャル\n",
    "    V0 = 1 #不純物の強さ\n",
    "    ix1 = 22 #不純物のx座標\n",
    "    iy1 = 38 #不純物のy座標\n",
    "    function V(ix, iy)\n",
    "        v = ifelse(ix == ix1 && iy == iy1, V0, 0)\n",
    "        return v\n",
    "    end\n",
    "    H = make_H(Lx, Ly, μ, V)\n",
    "    @time ene, ψ = eigen(H)\n",
    "    ldos = zeros(Float64, Lx, Ly)\n",
    "    η = 0.01 #スメアリングパラメータ\n",
    "    E = 0 #ゼロエネルギーLDOSを計算\n",
    "    for ix = 1:Lx\n",
    "        for iy = 1:Ly\n",
    "            i = (iy - 1) * Lx + ix\n",
    "            ldos[ix, iy] = calc_ldos(E, i, ene, ψ, η) #各場所でのLDOSの計算\n",
    "        end\n",
    "    end\n",
    "    heatmap(1:Lx, 1:Ly, ldos[:, :], aspect_ratio=:equal, xlims=(1, Lx), ylims=(1, Ly))\n",
    "    savefig(\"TB_ldosplot_$μ.png\")\n",
    "end\n",
    "ldos_plot()\n",
    "println(\"done\")"
   ]
  },
  {
   "cell_type": "code",
   "execution_count": null,
   "id": "3c8ab781",
   "metadata": {},
   "outputs": [],
   "source": [
    "using FFTW\n",
    "using LinearAlgebra\n",
    "function ldos_plot_FFT()\n",
    "    Lx = 91\n",
    "    Ly = 91\n",
    "    μ = -0.2 #化学ポテンシャル\n",
    "    V0 = 1 #不純物の強さ\n",
    "    ix1 = 22 #不純物のx座標\n",
    "    iy1 = 38 #不純物のy座標\n",
    "    function V(ix, iy)\n",
    "        v = ifelse(ix == ix1 && iy == iy1, V0, 0)\n",
    "        return v\n",
    "    end\n",
    "    H = make_H(Lx, Ly, μ, V)\n",
    "    @time ene, ψ = eigen(H)\n",
    "    ldos = zeros(Float64, Lx, Ly)\n",
    "    η = 0.01 #スメアリングパラメータ\n",
    "    E = 0 #ゼロエネルギーLDOSを計算\n",
    "    for ix = 1:Lx\n",
    "        for iy = 1:Ly\n",
    "            i = (iy - 1) * Lx + ix\n",
    "            ldos[ix, iy] = calc_ldos(E, i, ene, ψ, η) #各場所でのLDOSの計算\n",
    "        end\n",
    "    end\n",
    "    heatmap(1:Lx, 1:Ly, ldos[:, :], aspect_ratio=:equal, xlims=(1, Lx), ylims=(1, Ly))\n",
    "    savefig(\"TB_ldosplot_$μ.png\")\n",
    "\n",
    "    ldosfft = fft(ldos)\n",
    "    ldosfft[1, 1] = 0\n",
    "    ldosfftshift = fftshift(ldosfft)\n",
    "    freq = fftshift(fftfreq(Lx, 2π))\n",
    "    heatmap(freq, freq, abs.(ldosfftshift), aspect_ratio=:equal, xlims=(-π, π), ylims=(-π, π))\n",
    "    savefig(\"TB_ldosfft_$μ.png\")\n",
    "end\n",
    "ldos_plot_FFT()\n",
    "println(\"done\")"
   ]
  },
  {
   "cell_type": "code",
   "execution_count": null,
   "id": "4d869d76",
   "metadata": {},
   "outputs": [],
   "source": [
    "function fermisurface()\n",
    "    εk(kx, ky) = -2 * (cos(kx) + cos(ky))\n",
    "    Nkx = 100\n",
    "    Nky = 100\n",
    "    kxs = range(-π, π, length=Nkx)\n",
    "    kys = range(-π, π, length=Nky)\n",
    "    μ = -0.2\n",
    "    energy = zeros(Float64, Nkx, Nky)\n",
    "    for (ikx, kx) in enumerate(kxs)\n",
    "        for (iky, ky) in enumerate(kys)\n",
    "            energy[ikx, iky] = εk(kx, ky) - μ\n",
    "        end\n",
    "    end\n",
    "\n",
    "    contour(kxs, kys, energy, levels=[0], aspect_ratio=:equal, xlabel=\"kx\", ylabel=\"ky\", xlims=(-π, π), ylims=(-π, π), colorbar=false)\n",
    "    savefig(\"fermi_$μ.png\")\n",
    "end\n",
    "fermisurface()\n",
    "println(\"done\")"
   ]
  },
  {
   "cell_type": "code",
   "execution_count": null,
   "id": "2871259c",
   "metadata": {},
   "outputs": [],
   "source": [
    "using Optim\n",
    "function findzero(μ)\n",
    "    εk(k) = (-2 * (cos(k[1]) + cos(k[2])) - μ)^2\n",
    "    k0 = 2π * rand(2) .- π\n",
    "    res = optimize(εk, k0)\n",
    "    kans = Optim.minimizer(res)\n",
    "    for i = 1:2\n",
    "        while kans[i] > π #解は2πの周期関数なので、波数が-πからπに入るように調整\n",
    "            kans[i] -= 2π\n",
    "        end\n",
    "        while kans[i] < -π\n",
    "            kans[i] += 2π\n",
    "        end\n",
    "    end\n",
    "    println(\"Fermi momentum: \", kans)\n",
    "    println(\"energy= \", εk(kans))\n",
    "    return kans\n",
    "end\n"
   ]
  },
  {
   "cell_type": "code",
   "execution_count": null,
   "id": "c8a7f59f",
   "metadata": {},
   "outputs": [],
   "source": [
    "function fermisurface_arrow()\n",
    "    εk(kx, ky) = -2 * (cos(kx) + cos(ky))\n",
    "    Nkx = 100\n",
    "    Nky = 100\n",
    "    kxs = range(-π, π, length=Nkx)\n",
    "    kys = range(-π, π, length=Nky)\n",
    "    μ = -0.2\n",
    "    energy = zeros(Float64, Nkx, Nky)\n",
    "    for (ikx, kx) in enumerate(kxs)\n",
    "        for (iky, ky) in enumerate(kys)\n",
    "            energy[ikx, iky] = εk(kx, ky) - μ\n",
    "        end\n",
    "    end\n",
    "\n",
    "    contour(kxs, kys, energy, levels=[0], aspect_ratio=:equal, xlabel=\"kx\", ylabel=\"ky\", xlims=(-π, π), ylims=(-π, π), colorbar=false)\n",
    "    contour(kxs, kys, energy, levels=[0], aspect_ratio=:equal, xlabel=\"kx\", ylabel=\"ky\", xlims=(-π, π), ylims=(-π, π), colorbar=false)\n",
    "    npoints = 5\n",
    "    for i = 1:npoints\n",
    "        kans1 = findzero(μ) #一つ目のフェルミ波数\n",
    "        kans2 = findzero(μ) #二つ目のフェルミ波数\n",
    "        kxpoints = [kans1[1], kans2[1]]\n",
    "        kypoints = [kans1[2], kans2[2]]\n",
    "        plot!(kxpoints, kypoints, marker=:circle, arrow=(:closed, 2.0)) #矢印を描くプロット\n",
    "    end\n",
    "    savefig(\"fermi_$μ.png\")\n",
    "end\n",
    "fermisurface_arrow()\n",
    "println(\"done\")"
   ]
  },
  {
   "cell_type": "code",
   "execution_count": null,
   "id": "6f44dd43",
   "metadata": {},
   "outputs": [],
   "source": []
  }
 ],
 "metadata": {
  "@webio": {
   "lastCommId": null,
   "lastKernelId": null
  },
  "kernelspec": {
   "display_name": "Julia 1.6.2",
   "language": "julia",
   "name": "julia-1.6"
  },
  "language_info": {
   "file_extension": ".jl",
   "mimetype": "application/julia",
   "name": "julia",
   "version": "1.6.5"
  }
 },
 "nbformat": 4,
 "nbformat_minor": 5
}
