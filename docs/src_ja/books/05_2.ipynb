{
 "cells": [
  {
   "cell_type": "markdown",
   "id": "4a2584c8",
   "metadata": {},
   "source": [
    "## 5.2.4"
   ]
  },
  {
   "cell_type": "code",
   "execution_count": 5,
   "id": "5484541d",
   "metadata": {},
   "outputs": [
    {
     "data": {
      "text/plain": [
       "initialize_spins (generic function with 1 method)"
      ]
     },
     "execution_count": 5,
     "metadata": {},
     "output_type": "execute_result"
    }
   ],
   "source": [
    "function initialize_spins(Lx,Ly)\n",
    "    return rand([-1,1],Lx,Ly)\n",
    "end"
   ]
  },
  {
   "cell_type": "code",
   "execution_count": 6,
   "id": "fd32f646",
   "metadata": {},
   "outputs": [
    {
     "data": {
      "text/plain": [
       "measure_Mz (generic function with 1 method)"
      ]
     },
     "execution_count": 6,
     "metadata": {},
     "output_type": "execute_result"
    }
   ],
   "source": [
    "function measure_Mz(Ck)\n",
    "    return sum(Ck)\n",
    "end"
   ]
  },
  {
   "cell_type": "code",
   "execution_count": 7,
   "id": "1f1e5c32",
   "metadata": {},
   "outputs": [
    {
     "data": {
      "text/plain": [
       "measure_energy (generic function with 1 method)"
      ]
     },
     "execution_count": 7,
     "metadata": {},
     "output_type": "execute_result"
    }
   ],
   "source": [
    "function measure_energy(Ck,J,h,Lx,Ly)\n",
    "    energy = 0\n",
    "    for iy=1:Ly\n",
    "        for ix=1:Lx\n",
    "            Si = calc_Si(ix,iy,Lx,Ly,Ck)\n",
    "            σi = Ck[ix,iy]\n",
    "            energy += -(J/2)*σi*Si - h*σi\n",
    "        end\n",
    "    end\n",
    "    return energy\n",
    "end"
   ]
  },
  {
   "cell_type": "code",
   "execution_count": 8,
   "id": "d825b9b6",
   "metadata": {},
   "outputs": [
    {
     "data": {
      "text/plain": [
       "calc_Si (generic function with 1 method)"
      ]
     },
     "execution_count": 8,
     "metadata": {},
     "output_type": "execute_result"
    }
   ],
   "source": [
    "function calc_Si(ix,iy,Lx,Ly,Ck)\n",
    "    jx = ix + 1\n",
    "    if jx > Lx\n",
    "        jx -= Lx\n",
    "    end\n",
    "    jy=iy\n",
    "    Si = Ck[jx,jy]\n",
    "    \n",
    "    jx = ix - 1\n",
    "    if jx < 1\n",
    "        jx += Lx\n",
    "    end\n",
    "    jy = iy\n",
    "    Si += Ck[jx,jy]\n",
    "    \n",
    "    jy = iy + 1\n",
    "    if jy > Ly\n",
    "        jy -= Ly\n",
    "    end\n",
    "    jx = ix\n",
    "    Si += Ck[jx,jy]\n",
    "    \n",
    "    jy = iy-1\n",
    "    if jy < 1\n",
    "        jy += Ly\n",
    "    end\n",
    "    jx = ix\n",
    "    Si += Ck[jx,jy]\n",
    "    return Si\n",
    "end"
   ]
  },
  {
   "cell_type": "code",
   "execution_count": 9,
   "id": "a8a4a5da",
   "metadata": {},
   "outputs": [
    {
     "data": {
      "text/plain": [
       "calc_ΔE (generic function with 1 method)"
      ]
     },
     "execution_count": 9,
     "metadata": {},
     "output_type": "execute_result"
    }
   ],
   "source": [
    "function calc_ΔE(Ck,ix,iy,J,h,Lx,Ly)\n",
    "    Si = calc_Si(ix,iy,Lx,Ly,Ck)\n",
    "    return 2J*Ck[ix,iy]*Si + 2h*Ck[ix,iy]\n",
    "end"
   ]
  },
  {
   "cell_type": "code",
   "execution_count": 10,
   "id": "982b446d",
   "metadata": {},
   "outputs": [
    {
     "data": {
      "text/plain": [
       "metropolis (generic function with 1 method)"
      ]
     },
     "execution_count": 10,
     "metadata": {},
     "output_type": "execute_result"
    }
   ],
   "source": [
    "function metropolis(σi,ΔE,T)\n",
    "    is_accepted = ifelse(rand() <= exp(-ΔE/T),true,false)\n",
    "    σ_new = ifelse(is_accepted,-σi,σi)\n",
    "    return σ_new,is_accepted\n",
    "end"
   ]
  },
  {
   "cell_type": "code",
   "execution_count": 11,
   "id": "04be66e1",
   "metadata": {},
   "outputs": [
    {
     "data": {
      "text/plain": [
       "heatbath (generic function with 1 method)"
      ]
     },
     "execution_count": 11,
     "metadata": {},
     "output_type": "execute_result"
    }
   ],
   "source": [
    "function heatbath(σi,ΔE,T)\n",
    "    α = ΔE*σi\n",
    "    σ_new = ifelse(rand() <= 1/(1+exp(-α/T)),+1,-1)\n",
    "    is_accepted = ifelse(σ_new == σi,false,true)\n",
    "    return σ_new,is_accepted\n",
    "end\n"
   ]
  },
  {
   "cell_type": "code",
   "execution_count": 12,
   "id": "9cf3ee25",
   "metadata": {},
   "outputs": [
    {
     "data": {
      "text/plain": [
       "local_heatbath_update (generic function with 1 method)"
      ]
     },
     "execution_count": 12,
     "metadata": {},
     "output_type": "execute_result"
    }
   ],
   "source": [
    "function local_metropolis_update(Ck,ix,iy,T,J,h,Lx,Ly)\n",
    "    ΔE = calc_ΔE(Ck,ix,iy,J,h,Lx,Ly)\n",
    "    σi = Ck[ix,iy]\n",
    "    return metropolis(σi,ΔE,T)\n",
    "end\n",
    "function local_heatbath_update(Ck,ix,iy,T,J,h,Lx,Ly)\n",
    "    ΔE = calc_ΔE(Ck,ix,iy,J,h,Lx,Ly)\n",
    "    σi = Ck[ix,iy]\n",
    "    return heatbath(σi,ΔE,T)\n",
    "end"
   ]
  },
  {
   "cell_type": "code",
   "execution_count": 13,
   "id": "ac49c80e",
   "metadata": {},
   "outputs": [
    {
     "data": {
      "text/plain": [
       "montecarlo (generic function with 1 method)"
      ]
     },
     "execution_count": 13,
     "metadata": {},
     "output_type": "execute_result"
    }
   ],
   "source": [
    "using Random\n",
    "using Plots\n",
    "function montecarlo(num_thermal,num_MC,measure_interval,T,J,h,Lx,Ly)\n",
    "    Random.seed!(123)\n",
    "    num_total = num_thermal+num_MC\n",
    "    accept_count = 0\n",
    "    absmz_meanvalue = 0\n",
    "    measure_count = 0\n",
    "    mz_data = []\n",
    "    update(Ck,ix,iy) = local_metropolis_update(Ck,ix,iy,T,J,h,Lx,Ly)\n",
    "    \n",
    "    Ck = initialize_spins(Lx,Ly)\n",
    "    \n",
    "    for trj = 1:num_total\n",
    "        for isweep = 1:Lx*Ly\n",
    "            ix = rand(1:Lx)\n",
    "            iy = rand(1:Ly)\n",
    "            Ck[ix,iy],is_accepted = update(Ck,ix,iy)\n",
    "            \n",
    "            accept_count += ifelse(is_accepted,1,0)\n",
    "        end\n",
    "        \n",
    "        if trj > num_thermal\n",
    "            if trj % measure_interval == 0\n",
    "                measure_count += 1\n",
    "                mz = measure_Mz(Ck)/(Lx*Ly)\n",
    "                absmz_meanvalue += abs(mz)\n",
    "                push!(mz_data,mz)\n",
    "            end\n",
    "        end \n",
    "    end\n",
    "    return mz_data,accept_count/(num_total*Lx*Ly),absmz_meanvalue/measure_count\n",
    "                \n",
    "end"
   ]
  },
  {
   "cell_type": "code",
   "execution_count": 14,
   "id": "4c762739",
   "metadata": {},
   "outputs": [
    {
     "name": "stdout",
     "output_type": "stream",
     "text": [
      "  4.054132 seconds (998 allocations: 125.898 KiB)\n",
      "average acceptance ratio 0.00181302\n"
     ]
    }
   ],
   "source": [
    "function test()\n",
    "    Lx = 100\n",
    "    Ly = 100\n",
    "    J = 1\n",
    "    h = 0\n",
    "    num_thermal = 200\n",
    "    num_MC = 10000-num_thermal\n",
    "    measure_interval = 10\n",
    "    T = 1\n",
    "    @time mz_data,acceptance_ratio,absmz = montecarlo(num_thermal,num_MC,measure_interval,T,J,h,Lx,Ly)\n",
    "    println(\"average acceptance ratio \",acceptance_ratio)\n",
    "    histogram(mz_data,bin=-1:0.01:1)\n",
    "    savefig(\"mz_data_$T.png\")\n",
    "    return\n",
    "end\n",
    "test()"
   ]
  },
  {
   "cell_type": "code",
   "execution_count": 15,
   "id": "fac0428d",
   "metadata": {},
   "outputs": [
    {
     "data": {
      "text/plain": [
       "montecarlo_fast (generic function with 2 methods)"
      ]
     },
     "execution_count": 15,
     "metadata": {},
     "output_type": "execute_result"
    }
   ],
   "source": [
    "function montecarlo_fast(num_thermal,num_MC,measure_interval,T,J,h,Lx,Ly)\n",
    "    Random.seed!(123)\n",
    "    num_total = num_thermal+num_MC\n",
    "    accept_count = 0\n",
    "    absmz_meanvalue = 0\n",
    "    measure_count = 0\n",
    "    mz_data = []\n",
    "    update(Ck,ix,iy) = local_metropolis_update(Ck,ix,iy,T,J,h,Lx,Ly)\n",
    "    \n",
    "    Ck = initialize_spins(Lx,Ly)\n",
    "    \n",
    "    for trj = 1:num_total\n",
    "        for ix = 1:Lx\n",
    "            for iy=1:Ly\n",
    "                Ck[ix,iy],is_accepted = update(Ck,ix,iy)\n",
    "            \n",
    "                accept_count += ifelse(is_accepted,1,0)\n",
    "            end\n",
    "        end\n",
    "        \n",
    "        if trj > num_thermal\n",
    "            if trj % measure_interval == 0\n",
    "                measure_count += 1\n",
    "                mz = measure_Mz(Ck)/(Lx*Ly)\n",
    "                absmz_meanvalue += abs(mz)\n",
    "                push!(mz_data,mz)\n",
    "            end\n",
    "        end \n",
    "    end\n",
    "    return mz_data,accept_count/(num_total*Lx*Ly),absmz_meanvalue/measure_count\n",
    "                \n",
    "end"
   ]
  },
  {
   "cell_type": "code",
   "execution_count": 12,
   "id": "ab316be2",
   "metadata": {},
   "outputs": [
    {
     "data": {
      "text/plain": [
       "test_tdep (generic function with 1 method)"
      ]
     },
     "execution_count": 12,
     "metadata": {},
     "output_type": "execute_result"
    }
   ],
   "source": [
    "function test_tdep()\n",
    "    Lx = 100\n",
    "    Ly = 100\n",
    "    J = 1\n",
    "    h = 0\n",
    "    num_thermal = 5000\n",
    "    num_MC = 50000-num_thermal\n",
    "    measure_interval = 10\n",
    "    mz_Tdep = []\n",
    "    nT = 20\n",
    "    Ts = range(0.5,4.0,length = nT)\n",
    "    for T in Ts\n",
    "        @time mz_data,acceptance_ratio,absmz = montecarlo_fast(num_thermal,num_MC,measure_interval,T,J,h,Lx,Ly)\n",
    "        push!(mz_Tdep,absmz)\n",
    "        println(\"$T $absmz\")\n",
    "        histogram(mz_data,bin=-1:0.01:1)\n",
    "        savefig(\"mz_data_$(T).png\")\n",
    "    end\n",
    "    plot(Ts,mz_Tdep)\n",
    "    savefig(\"mz_tdep.png\")\n",
    "    return\n",
    "end"
   ]
  },
  {
   "cell_type": "code",
   "execution_count": 13,
   "id": "22ad9e08",
   "metadata": {},
   "outputs": [
    {
     "name": "stdout",
     "output_type": "stream",
     "text": [
      " 18.427934 seconds (4.52 k allocations: 277.336 KiB)\n",
      "0.5 0.05199453333333343\n",
      " 18.698643 seconds (4.52 k allocations: 277.336 KiB)\n",
      "0.6842105263157895 0.23100075555555571\n",
      " 18.489597 seconds (4.52 k allocations: 277.336 KiB)\n",
      "0.868421052631579 0.9997946222222384\n",
      " 18.601177 seconds (4.52 k allocations: 277.336 KiB)\n",
      "1.0526315789473684 0.9988989777777715\n",
      " 18.372596 seconds (4.52 k allocations: 277.336 KiB)\n",
      "1.236842105263158 0.9962966666666621\n",
      " 18.643263 seconds (4.52 k allocations: 277.336 KiB)\n",
      "1.4210526315789473 0.9755179555555478\n",
      " 18.486626 seconds (4.52 k allocations: 277.336 KiB)\n",
      "1.605263157894737 0.9791694222222268\n",
      "1031.705697 seconds (4.52 k allocations: 277.336 KiB)\n",
      "1.7894736842105263 0.9584731555555526\n",
      " 18.315030 seconds (4.52 k allocations: 277.336 KiB)\n",
      "1.9736842105263157 0.9195799555555548\n",
      " 18.242392 seconds (4.52 k allocations: 277.336 KiB)\n",
      "2.1578947368421053 0.8301916000000004\n",
      " 18.593858 seconds (4.52 k allocations: 277.336 KiB)\n",
      "2.3421052631578947 0.16207084444444436\n",
      " 18.476981 seconds (4.52 k allocations: 277.336 KiB)\n",
      "2.526315789473684 0.057269600000000136\n",
      " 18.216218 seconds (4.52 k allocations: 277.336 KiB)\n",
      "2.710526315789474 0.037877422222222255\n",
      " 18.352579 seconds (4.52 k allocations: 277.336 KiB)\n",
      "2.8947368421052633 0.030009511111111192\n",
      " 18.156816 seconds (4.52 k allocations: 277.336 KiB)\n",
      "3.0789473684210527 0.02522480000000006\n",
      " 18.183847 seconds (4.52 k allocations: 277.336 KiB)\n",
      "3.263157894736842 0.022144133333333323\n",
      " 18.703794 seconds (4.52 k allocations: 277.336 KiB)\n",
      "3.4473684210526314 0.020284088888888902\n",
      " 18.730715 seconds (4.52 k allocations: 277.336 KiB)\n",
      "3.6315789473684212 0.01863195555555557\n",
      " 18.349486 seconds (4.52 k allocations: 277.336 KiB)\n",
      "3.8157894736842106 0.01708199999999999\n",
      " 18.461326 seconds (4.52 k allocations: 277.336 KiB)\n",
      "4.0 0.016424533333333366\n"
     ]
    }
   ],
   "source": [
    "test_tdep()"
   ]
  },
  {
   "cell_type": "code",
   "execution_count": 16,
   "id": "18f37063",
   "metadata": {},
   "outputs": [
    {
     "data": {
      "text/plain": [
       "montecarlo_fast (generic function with 2 methods)"
      ]
     },
     "execution_count": 16,
     "metadata": {},
     "output_type": "execute_result"
    }
   ],
   "source": [
    "function montecarlo_fast(filename,num_thermal,num_MC,measure_interval,T,J,h,Lx,Ly)\n",
    "    ENV[\"GKSwstype\"] = \"nul\"\n",
    "    Random.seed!(123)\n",
    "    num_total = num_thermal+num_MC\n",
    "    accept_count = 0\n",
    "    absmz_meanvalue = 0\n",
    "    measure_count = 0\n",
    "    mz_data = []\n",
    "    update(Ck,ix,iy) = local_metropolis_update(Ck,ix,iy,T,J,h,Lx,Ly)\n",
    "    \n",
    "    Ck = initialize_spins(Lx,Ly)\n",
    "    \n",
    "    ising = @animate for trj = 1:num_total\n",
    "        for ix = 1:Lx\n",
    "            for iy=1:Ly\n",
    "                Ck[ix,iy],is_accepted = update(Ck,ix,iy)\n",
    "            \n",
    "                accept_count += ifelse(is_accepted,1,0)\n",
    "            end\n",
    "        end\n",
    "        \n",
    "        if trj > num_thermal\n",
    "            if trj % measure_interval == 0\n",
    "                measure_count += 1\n",
    "                mz = measure_Mz(Ck)/(Lx*Ly)\n",
    "                absmz_meanvalue += abs(mz)\n",
    "                push!(mz_data,mz)\n",
    "            end\n",
    "        end \n",
    "        heatmap(1:Lx,1:Ly,Ck,aspect_ratio=:equal)\n",
    "    end every 100\n",
    "    gif(ising, \"./\"*filename, fps = 15)  \n",
    "    return mz_data,accept_count/(num_total*Lx*Ly),absmz_meanvalue/measure_count\n",
    "                \n",
    "end"
   ]
  },
  {
   "cell_type": "code",
   "execution_count": 17,
   "id": "7a0c65a4",
   "metadata": {},
   "outputs": [
    {
     "name": "stdout",
     "output_type": "stream",
     "text": [
      " 25.287235 seconds (63.65 M allocations: 5.784 GiB, 2.56% gc time, 7.50% compilation time)\n",
      "average acceptance ratio 0.01565267\n"
     ]
    },
    {
     "name": "stderr",
     "output_type": "stream",
     "text": [
      "┌ Info: Saved animation to \n",
      "│   fn = /Users/yuki/git/YukiNagai/docs/src_ja/books/ising_T0.5.gif\n",
      "└ @ Plots /Users/yuki/.julia/packages/Plots/UeTBV/src/animation.jl:114\n"
     ]
    }
   ],
   "source": [
    "function test_anime()\n",
    "    Lx = 100\n",
    "    Ly = 100\n",
    "    J = 1\n",
    "    h = 0\n",
    "    num_thermal = 5000\n",
    "    num_MC =20000-num_thermal\n",
    "    measure_interval = 10\n",
    "    T = 0.5\n",
    "    @time mz_data,acceptance_ratio,absmz = montecarlo_fast(\"ising_T$T.gif\",num_thermal,num_MC,measure_interval,T,J,h,Lx,Ly)\n",
    "\n",
    "    println(\"average acceptance ratio \",acceptance_ratio)\n",
    "    histogram(mz_data,bin=-1:0.01:1)\n",
    "    savefig(\"mz_data_$(T).png\")\n",
    "    return\n",
    "end\n",
    "test_anime()"
   ]
  },
  {
   "cell_type": "code",
   "execution_count": 18,
   "id": "f8474bee",
   "metadata": {},
   "outputs": [
    {
     "data": {
      "text/plain": [
       "montecarlo_fast (generic function with 2 methods)"
      ]
     },
     "execution_count": 18,
     "metadata": {},
     "output_type": "execute_result"
    }
   ],
   "source": [
    "function montecarlo_fast(num_thermal,num_MC,measure_interval,T,J,h,Lx,Ly)\n",
    "    Random.seed!(123)\n",
    "    num_total = num_thermal+num_MC\n",
    "    accept_count = 0\n",
    "    absmz_meanvalue = 0\n",
    "    measure_count = 0\n",
    "    mz_data = []\n",
    "    update(Ck,ix,iy) = local_metropolis_update(Ck,ix,iy,T,J,h,Lx,Ly)\n",
    "    E2_meanvalue = 0.0 \n",
    "    E_meanvalue = 0.0 \n",
    "    \n",
    "    Ck = initialize_spins(Lx,Ly)\n",
    "    \n",
    "    for trj = 1:num_total\n",
    "        if trj > num_thermal && rand() < 0.01 \n",
    "            @. Ck *= -1\n",
    "            continue\n",
    "        end\n",
    "        \n",
    "        for ix = 1:Lx\n",
    "            for iy=1:Ly\n",
    "                Ck[ix,iy],is_accepted = update(Ck,ix,iy)\n",
    "            \n",
    "                accept_count += ifelse(is_accepted,1,0)\n",
    "            end\n",
    "        end\n",
    "        \n",
    "        if trj > num_thermal\n",
    "            if trj % measure_interval == 0\n",
    "                measure_count += 1\n",
    "                mz = measure_Mz(Ck)/(Lx*Ly)\n",
    "                absmz_meanvalue += abs(mz)\n",
    "                push!(mz_data,mz)\n",
    "                \n",
    "                E = measure_energy(Ck,J,h,Lx,Ly)\n",
    "                E2_meanvalue += E^2\n",
    "                E_meanvalue += E\n",
    "                \n",
    "            end\n",
    "        end \n",
    "    end\n",
    "    Cv = (E2_meanvalue/measure_count - (E_meanvalue/measure_count)^2)/T^2\n",
    "\n",
    "    return mz_data,accept_count/(num_total*Lx*Ly),absmz_meanvalue/measure_count,Cv\n",
    "                \n",
    "end"
   ]
  },
  {
   "cell_type": "code",
   "execution_count": 19,
   "id": "7df07551",
   "metadata": {},
   "outputs": [
    {
     "data": {
      "text/plain": [
       "test_tdep (generic function with 1 method)"
      ]
     },
     "execution_count": 19,
     "metadata": {},
     "output_type": "execute_result"
    }
   ],
   "source": [
    "\n",
    "function test_tdep()\n",
    "    Lx = 96\n",
    "    Ly = 96\n",
    "    J = 1\n",
    "    h = 0\n",
    "    num_thermal = 20000\n",
    "    num_MC =100000-num_thermal\n",
    "    measure_interval = 10\n",
    "    mz_Tdep = []\n",
    "    Cv_Tdep = []\n",
    "\n",
    "    nT = 20\n",
    "    Ts = range(0.5,4.0,length= nT)\n",
    "    for T in Ts\n",
    "        @time mz_data,acceptance_ratio,absmz,Cv = montecarlo_fast(num_thermal,num_MC,measure_interval,T,J,h,Lx,Ly)\n",
    "        push!(mz_Tdep,absmz)\n",
    "        push!(Cv_Tdep,Cv)\n",
    "        println(\"$T $absmz, $Cv\")\n",
    "        histogram(mz_data,bin=-1:0.01:1)\n",
    "        savefig(\"mz_data_L$(Lx)_T$(T).png\")\n",
    "\n",
    "        plot(mz_data)\n",
    "        savefig(\"mz_trjdep_L$(Lx)_T$(T).png\")\n",
    "    end\n",
    "    plot(Ts,mz_Tdep)\n",
    "    savefig(\"mz_tdep_L$(Lx).png\")\n",
    "\n",
    "    plot(Ts,Cv_Tdep)\n",
    "    savefig(\"Cv_tdep_L$(Lx).png\")\n",
    "    return\n",
    "end"
   ]
  },
  {
   "cell_type": "code",
   "execution_count": 20,
   "id": "95db4374",
   "metadata": {},
   "outputs": [
    {
     "name": "stdout",
     "output_type": "stream",
     "text": [
      "histgoram\n",
      " 33.000136 seconds (7.95 k allocations: 324.789 KiB)\n",
      "0.5 0.9999996715643, 0.3868520259857178\n",
      " 32.711374 seconds (7.95 k allocations: 324.789 KiB)\n",
      "0.6842105263157895 0.999983085561452, 10.428095578441958\n",
      " 33.014732 seconds (7.95 k allocations: 324.789 KiB)\n",
      "0.868421052631579 0.9997949192749589, 79.50156693244001\n",
      " 32.766487 seconds (7.95 k allocations: 324.789 KiB)\n",
      "1.0526315789473684 0.9988974139848755, 294.54911037564284\n",
      " 32.712517 seconds (7.95 k allocations: 324.789 KiB)\n",
      "1.236842105263158 0.9963071510961877, 718.7639276587406\n",
      " 32.816952 seconds (7.95 k allocations: 324.789 KiB)\n",
      "1.4210526315789473 0.9905089198757029, 1419.4747793447987\n",
      " 33.119237 seconds (7.95 k allocations: 324.789 KiB)\n",
      "1.605263157894737 0.979192284651277, 2529.8853416078928\n",
      " 49.414598 seconds (7.95 k allocations: 324.789 KiB)\n",
      "1.7894736842105263 0.9584856453892898, 3984.776147137515\n",
      " 32.682030 seconds (7.95 k allocations: 324.789 KiB)\n",
      "1.9736842105263157 0.9194003191081269, 6396.2623672445725\n",
      " 32.789297 seconds (7.95 k allocations: 324.789 KiB)\n",
      "2.1578947368421053 0.8288123338115367, 11021.742023466846\n",
      " 32.724550 seconds (7.95 k allocations: 324.789 KiB)\n",
      "2.3421052631578947 0.17547591427740575, 13558.932910534306\n",
      " 32.713633 seconds (7.95 k allocations: 324.789 KiB)\n",
      "2.526315789473684 0.05997312520144052, 7466.303576443604\n",
      " 32.745793 seconds (7.95 k allocations: 324.789 KiB)\n",
      "2.710526315789474 0.04037832289345723, 5402.020369462669\n",
      "148.396305 seconds (7.95 k allocations: 324.789 KiB)\n",
      "2.8947368421052633 0.031199940925365332, 4136.9681799917225\n",
      " 32.688814 seconds (7.95 k allocations: 324.789 KiB)\n",
      "3.0789473684210527 0.026522688119210765, 3373.653985903119\n",
      " 32.904951 seconds (7.95 k allocations: 324.789 KiB)\n",
      "3.263157894736842 0.023355254226748477, 2843.038430215167\n",
      " 33.555955 seconds (7.95 k allocations: 324.789 KiB)\n",
      "3.4473684210526314 0.021389758148708696, 2311.9478267033105\n",
      " 33.598208 seconds (7.95 k allocations: 324.789 KiB)\n",
      "3.6315789473684212 0.0196182854605456, 2121.97543304645\n",
      " 33.417555 seconds (7.95 k allocations: 324.789 KiB)\n",
      "3.8157894736842106 0.0182814974215608, 1826.4178572862866\n",
      " 33.580269 seconds (7.95 k allocations: 324.789 KiB)\n",
      "4.0 0.017011491308277588, 1628.2326562290546\n"
     ]
    }
   ],
   "source": [
    "test_tdep()"
   ]
  },
  {
   "cell_type": "code",
   "execution_count": null,
   "id": "99ff31c9",
   "metadata": {},
   "outputs": [],
   "source": []
  }
 ],
 "metadata": {
  "@webio": {
   "lastCommId": null,
   "lastKernelId": null
  },
  "kernelspec": {
   "display_name": "Julia 1.6.2",
   "language": "julia",
   "name": "julia-1.6"
  },
  "language_info": {
   "file_extension": ".jl",
   "mimetype": "application/julia",
   "name": "julia",
   "version": "1.6.5"
  }
 },
 "nbformat": 4,
 "nbformat_minor": 5
}
