{
 "cells": [
  {
   "cell_type": "markdown",
   "id": "4a2584c8",
   "metadata": {},
   "source": [
    "## 5.2.4"
   ]
  },
  {
   "cell_type": "code",
   "execution_count": 14,
   "id": "5484541d",
   "metadata": {},
   "outputs": [
    {
     "data": {
      "text/plain": [
       "initialize_spins (generic function with 1 method)"
      ]
     },
     "execution_count": 14,
     "metadata": {},
     "output_type": "execute_result"
    }
   ],
   "source": [
    "function initialize_spins(Lx,Ly)\n",
    "    return rand([-1,1],Lx,Ly)\n",
    "end"
   ]
  },
  {
   "cell_type": "code",
   "execution_count": 2,
   "id": "fd32f646",
   "metadata": {},
   "outputs": [
    {
     "data": {
      "text/plain": [
       "measure_Mz (generic function with 1 method)"
      ]
     },
     "execution_count": 2,
     "metadata": {},
     "output_type": "execute_result"
    }
   ],
   "source": [
    "function measure_Mz(Ck)\n",
    "    return sum(Ck)\n",
    "end"
   ]
  },
  {
   "cell_type": "code",
   "execution_count": 3,
   "id": "1f1e5c32",
   "metadata": {},
   "outputs": [
    {
     "data": {
      "text/plain": [
       "measure_energy (generic function with 1 method)"
      ]
     },
     "execution_count": 3,
     "metadata": {},
     "output_type": "execute_result"
    }
   ],
   "source": [
    "function measure_energy(Ck,J,h,Lx,Ly)\n",
    "    energy = 0\n",
    "    for iy=1:Ly\n",
    "        for ix=1:Lx\n",
    "            Si = calc_Si(ix,iy,Lx,Ly,Ck)\n",
    "            σi = Ck[ix,iy]\n",
    "            energy += -(J/2)*σi*Si - h*σi\n",
    "        end\n",
    "    end\n",
    "    return energy\n",
    "end"
   ]
  },
  {
   "cell_type": "code",
   "execution_count": 4,
   "id": "d825b9b6",
   "metadata": {},
   "outputs": [
    {
     "data": {
      "text/plain": [
       "calc_Si (generic function with 1 method)"
      ]
     },
     "execution_count": 4,
     "metadata": {},
     "output_type": "execute_result"
    }
   ],
   "source": [
    "function calc_Si(ix,iy,Lx,Ly,Ck)\n",
    "    jx = ix + 1\n",
    "    if jx > Lx\n",
    "        jx -= Lx\n",
    "    end\n",
    "    jy=iy\n",
    "    Si = Ck[jx,jy]\n",
    "    \n",
    "    jx = ix - 1\n",
    "    if jx < 1\n",
    "        jx += Lx\n",
    "    end\n",
    "    jy = iy\n",
    "    Si += Ck[jx,jy]\n",
    "    \n",
    "    jy = iy + 1\n",
    "    if jy > Ly\n",
    "        jy -= Ly\n",
    "    end\n",
    "    jx = ix\n",
    "    Si += Ck[jx,jy]\n",
    "    \n",
    "    jy = iy-1\n",
    "    if jy < 1\n",
    "        jy += Ly\n",
    "    end\n",
    "    jx = ix\n",
    "    Si += Ck[jx,jy]\n",
    "    return Si\n",
    "end"
   ]
  },
  {
   "cell_type": "code",
   "execution_count": 5,
   "id": "a8a4a5da",
   "metadata": {},
   "outputs": [
    {
     "data": {
      "text/plain": [
       "calc_ΔE (generic function with 1 method)"
      ]
     },
     "execution_count": 5,
     "metadata": {},
     "output_type": "execute_result"
    }
   ],
   "source": [
    "function calc_ΔE(Ck,ix,iy,J,h,Lx,Ly)\n",
    "    Si = calc_Si(ix,iy,Lx,Ly,Ck)\n",
    "    return 2J*Ck[ix,iy]*Si + 2h*Ck[ix,iy]\n",
    "end"
   ]
  },
  {
   "cell_type": "code",
   "execution_count": 6,
   "id": "982b446d",
   "metadata": {},
   "outputs": [
    {
     "data": {
      "text/plain": [
       "metropolis (generic function with 1 method)"
      ]
     },
     "execution_count": 6,
     "metadata": {},
     "output_type": "execute_result"
    }
   ],
   "source": [
    "function metropolis(σi,ΔE,T)\n",
    "    is_accepted = ifelse(rand() <= exp(-ΔE/T),true,false)\n",
    "    σ_new = ifelse(is_accepted,-σi,σi)\n",
    "    return σ_new,is_accepted\n",
    "end"
   ]
  },
  {
   "cell_type": "code",
   "execution_count": 7,
   "id": "04be66e1",
   "metadata": {},
   "outputs": [
    {
     "data": {
      "text/plain": [
       "heatbath (generic function with 1 method)"
      ]
     },
     "execution_count": 7,
     "metadata": {},
     "output_type": "execute_result"
    }
   ],
   "source": [
    "function heatbath(σi,ΔE,T)\n",
    "    α = ΔE*σi\n",
    "    σ_new = ifelse(rand() <= 1/(1+exp(-α/T)),+1,-1)\n",
    "    is_accepted = ifelse(σ_new == σi,false,true)\n",
    "    return σ_new,is_accepted\n",
    "end\n"
   ]
  },
  {
   "cell_type": "code",
   "execution_count": 8,
   "id": "9cf3ee25",
   "metadata": {},
   "outputs": [
    {
     "data": {
      "text/plain": [
       "local_heatbath_update (generic function with 1 method)"
      ]
     },
     "execution_count": 8,
     "metadata": {},
     "output_type": "execute_result"
    }
   ],
   "source": [
    "function local_metropolis_update(Ck,ix,iy,T,J,h,Lx,Ly)\n",
    "    ΔE = calc_ΔE(Ck,ix,iy,J,h,Lx,Ly)\n",
    "    σi = Ck[ix,iy]\n",
    "    return metropolis(σi,ΔE,T)\n",
    "end\n",
    "function local_heatbath_update(Ck,ix,iy,T,J,h,Lx,Ly)\n",
    "    ΔE = calc_ΔE(Ck,ix,iy,J,h,Lx,Ly)\n",
    "    σi = Ck[ix,iy]\n",
    "    return heatbath(σi,ΔE,T)\n",
    "end"
   ]
  },
  {
   "cell_type": "code",
   "execution_count": 9,
   "id": "ac49c80e",
   "metadata": {},
   "outputs": [
    {
     "data": {
      "text/plain": [
       "montecarlo (generic function with 1 method)"
      ]
     },
     "execution_count": 9,
     "metadata": {},
     "output_type": "execute_result"
    }
   ],
   "source": [
    "using Random\n",
    "using Plots\n",
    "function montecarlo(num_thermal,num_MC,measure_interval,T,J,h,Lx,Ly)\n",
    "    Random.seed!(123)\n",
    "    num_total = num_thermal+num_MC\n",
    "    accept_count = 0\n",
    "    absmz_meanvalue = 0\n",
    "    measure_count = 0\n",
    "    mz_data = []\n",
    "    update(Ck,ix,iy) = local_metropolis_update(Ck,ix,iy,T,J,h,Lx,Ly)\n",
    "    \n",
    "    Ck = initialize_spins(Lx,Ly)\n",
    "    \n",
    "    for trj = 1:num_total\n",
    "        for isweep = 1:Lx*Ly\n",
    "            ix = rand(1:Lx)\n",
    "            iy = rand(1:Ly)\n",
    "            Ck[ix,iy],is_accepted = update(Ck,ix,iy)\n",
    "            \n",
    "            accept_count += ifelse(is_accepted,1,0)\n",
    "        end\n",
    "        \n",
    "        if trj > num_thermal\n",
    "            if trj % measure_interval == 0\n",
    "                measure_count += 1\n",
    "                mz = measure_Mz(Ck)/(Lx*Ly)\n",
    "                absmz_meanvalue += abs(mz)\n",
    "                push!(mz_data,mz)\n",
    "            end\n",
    "        end \n",
    "    end\n",
    "    return mz_data,accept_count/(num_total*Lx*Ly),absmz_meanvalue/measure_count\n",
    "                \n",
    "end"
   ]
  },
  {
   "cell_type": "code",
   "execution_count": 10,
   "id": "4c762739",
   "metadata": {},
   "outputs": [
    {
     "name": "stdout",
     "output_type": "stream",
     "text": [
      "  5.040704 seconds (1.01 k allocations: 145.461 KiB)\n",
      "average acceptance ratio 0.00181302\n"
     ]
    }
   ],
   "source": [
    "function test()\n",
    "    Lx = 100\n",
    "    Ly = 100\n",
    "    J = 1\n",
    "    h = 0\n",
    "    num_thermal = 200\n",
    "    num_MC = 10000-num_thermal\n",
    "    measure_interval = 10\n",
    "    T = 1\n",
    "    @time mz_data,acceptance_ratio,absmz = montecarlo(num_thermal,num_MC,measure_interval,T,J,h,Lx,Ly)\n",
    "    println(\"average acceptance ratio \",acceptance_ratio)\n",
    "    histogram(mz_data,bin=-1:0.01:1)\n",
    "    savefig(\"mz_data_$T.png\")\n",
    "    return\n",
    "end\n",
    "test()"
   ]
  },
  {
   "cell_type": "code",
   "execution_count": 11,
   "id": "fac0428d",
   "metadata": {},
   "outputs": [
    {
     "data": {
      "text/plain": [
       "montecarlo_fast (generic function with 1 method)"
      ]
     },
     "execution_count": 11,
     "metadata": {},
     "output_type": "execute_result"
    }
   ],
   "source": [
    "function montecarlo_fast(num_thermal,num_MC,measure_interval,T,J,h,Lx,Ly)\n",
    "    Random.seed!(123)\n",
    "    num_total = num_thermal+num_MC\n",
    "    accept_count = 0\n",
    "    absmz_meanvalue = 0\n",
    "    measure_count = 0\n",
    "    mz_data = []\n",
    "    update(Ck,ix,iy) = local_metropolis_update(Ck,ix,iy,T,J,h,Lx,Ly)\n",
    "    \n",
    "    Ck = initialize_spins(Lx,Ly)\n",
    "    \n",
    "    for trj = 1:num_total\n",
    "        for ix = 1:Lx\n",
    "            for iy=1:Ly\n",
    "                Ck[ix,iy],is_accepted = update(Ck,ix,iy)\n",
    "            \n",
    "                accept_count += ifelse(is_accepted,1,0)\n",
    "            end\n",
    "        end\n",
    "        \n",
    "        if trj > num_thermal\n",
    "            if trj % measure_interval == 0\n",
    "                measure_count += 1\n",
    "                mz = measure_Mz(Ck)/(Lx*Ly)\n",
    "                absmz_meanvalue += abs(mz)\n",
    "                push!(mz_data,mz)\n",
    "            end\n",
    "        end \n",
    "    end\n",
    "    return mz_data,accept_count/(num_total*Lx*Ly),absmz_meanvalue/measure_count\n",
    "                \n",
    "end"
   ]
  },
  {
   "cell_type": "code",
   "execution_count": 12,
   "id": "ab316be2",
   "metadata": {},
   "outputs": [
    {
     "data": {
      "text/plain": [
       "test_tdep (generic function with 1 method)"
      ]
     },
     "execution_count": 12,
     "metadata": {},
     "output_type": "execute_result"
    }
   ],
   "source": [
    "function test_tdep()\n",
    "    Lx = 100\n",
    "    Ly = 100\n",
    "    J = 1\n",
    "    h = 0\n",
    "    num_thermal = 5000\n",
    "    num_MC = 50000-num_thermal\n",
    "    measure_interval = 10\n",
    "    mz_Tdep = []\n",
    "    nT = 20\n",
    "    Ts = range(0.5,4.0,length = nT)\n",
    "    for T in Ts\n",
    "        @time mz_data,acceptance_ratio,absmz = montecarlo_fast(num_thermal,num_MC,measure_interval,T,J,h,Lx,Ly)\n",
    "        push!(mz_Tdep,absmz)\n",
    "        println(\"$T $absmz\")\n",
    "        histogram(mz_data,bin=-1:0.01:1)\n",
    "        savefig(\"mz_data_$(T).png\")\n",
    "    end\n",
    "    plot(Ts,mz_Tdep)\n",
    "    savefig(\"mz_tdep.png\")\n",
    "    return\n",
    "end"
   ]
  },
  {
   "cell_type": "code",
   "execution_count": 13,
   "id": "22ad9e08",
   "metadata": {},
   "outputs": [
    {
     "name": "stdout",
     "output_type": "stream",
     "text": [
      " 18.427934 seconds (4.52 k allocations: 277.336 KiB)\n",
      "0.5 0.05199453333333343\n",
      " 18.698643 seconds (4.52 k allocations: 277.336 KiB)\n",
      "0.6842105263157895 0.23100075555555571\n",
      " 18.489597 seconds (4.52 k allocations: 277.336 KiB)\n",
      "0.868421052631579 0.9997946222222384\n",
      " 18.601177 seconds (4.52 k allocations: 277.336 KiB)\n",
      "1.0526315789473684 0.9988989777777715\n",
      " 18.372596 seconds (4.52 k allocations: 277.336 KiB)\n",
      "1.236842105263158 0.9962966666666621\n",
      " 18.643263 seconds (4.52 k allocations: 277.336 KiB)\n",
      "1.4210526315789473 0.9755179555555478\n",
      " 18.486626 seconds (4.52 k allocations: 277.336 KiB)\n",
      "1.605263157894737 0.9791694222222268\n",
      "1031.705697 seconds (4.52 k allocations: 277.336 KiB)\n",
      "1.7894736842105263 0.9584731555555526\n",
      " 18.315030 seconds (4.52 k allocations: 277.336 KiB)\n",
      "1.9736842105263157 0.9195799555555548\n",
      " 18.242392 seconds (4.52 k allocations: 277.336 KiB)\n",
      "2.1578947368421053 0.8301916000000004\n",
      " 18.593858 seconds (4.52 k allocations: 277.336 KiB)\n",
      "2.3421052631578947 0.16207084444444436\n",
      " 18.476981 seconds (4.52 k allocations: 277.336 KiB)\n",
      "2.526315789473684 0.057269600000000136\n",
      " 18.216218 seconds (4.52 k allocations: 277.336 KiB)\n",
      "2.710526315789474 0.037877422222222255\n",
      " 18.352579 seconds (4.52 k allocations: 277.336 KiB)\n",
      "2.8947368421052633 0.030009511111111192\n",
      " 18.156816 seconds (4.52 k allocations: 277.336 KiB)\n",
      "3.0789473684210527 0.02522480000000006\n",
      " 18.183847 seconds (4.52 k allocations: 277.336 KiB)\n",
      "3.263157894736842 0.022144133333333323\n",
      " 18.703794 seconds (4.52 k allocations: 277.336 KiB)\n",
      "3.4473684210526314 0.020284088888888902\n",
      " 18.730715 seconds (4.52 k allocations: 277.336 KiB)\n",
      "3.6315789473684212 0.01863195555555557\n",
      " 18.349486 seconds (4.52 k allocations: 277.336 KiB)\n",
      "3.8157894736842106 0.01708199999999999\n",
      " 18.461326 seconds (4.52 k allocations: 277.336 KiB)\n",
      "4.0 0.016424533333333366\n"
     ]
    }
   ],
   "source": [
    "test_tdep()"
   ]
  },
  {
   "cell_type": "code",
   "execution_count": null,
   "id": "18f37063",
   "metadata": {},
   "outputs": [],
   "source": []
  }
 ],
 "metadata": {
  "@webio": {
   "lastCommId": null,
   "lastKernelId": null
  },
  "kernelspec": {
   "display_name": "Julia 1.6.2",
   "language": "julia",
   "name": "julia-1.6"
  },
  "language_info": {
   "file_extension": ".jl",
   "mimetype": "application/julia",
   "name": "julia",
   "version": "1.6.5"
  }
 },
 "nbformat": 4,
 "nbformat_minor": 5
}
